{
 "cells": [
  {
   "cell_type": "markdown",
   "metadata": {},
   "source": [
    "<img src=\"http://www.exalumnos.usm.cl/wp-content/uploads/2015/06/Isotipo-Negro.gif\" title=\"Title text\" width=\"20%\" height=\"20%\" />\n",
    "\n",
    "\n",
    "<hr style=\"height:2px;border:none\"/>\n",
    "<h1 align='center'> INF-393 Máquinas de Aprendizaje II-2018 </h1>\n",
    "\n",
    "<H3 align='center'> Tarea 3 - Ensamblados y modelos avanzados </H3>\n",
    "<hr style=\"height:2px;border:none\"/>\n",
    "\n",
    "**Temas**  \n",
    "* Técnicas de ensamblado: *bagging*, *boosting*, *random forest*.\n",
    "* Redes Neuronales Convolucionales vs *Feed Forward*\n",
    "* Aprendizaje no supervisado: *hidden models*\n",
    "* Aprendizaje sobre secuencias\n",
    "\n",
    "**Intengrantes**\n",
    "* César Quiroz Mansilla\n",
    "* Jorge Contreras Cabreras\n",
    " "
   ]
  },
  {
   "cell_type": "markdown",
   "metadata": {},
   "source": [
    "## 1. Calidad de un vino\n",
    "\n",
    "Existen muchas variedades de vino existentes debido a los distintos gustos que tienen las personas. Del gusto se desprende la calidad que una persona le podría asignar a un vino, el cual proviene del gusto de la persona en particular, o bien, a la gran cantidad de quı́micos y procesos que se aplican a la producción de vino. Para el área de negocios, el estimar cuál es la calidad de un vino en base a la apreciación del público es una tarea bastante difı́cil.  \n",
    "Para esta actividad se trabajará con dos *datasets* asociados a las variantes tinto y blanco del vino portugués\n",
    "”Vinho Verde”. Debido a temas privados solo se cuenta con las caracterı́stcas fisioquı́micas asociadas a un\n",
    "vino en particular, los cuales corresponden a 11 atributos numéricos descritos en el siguiente __[link](http://archive.ics.uci.edu/ml/machine-learning-databases/wine-quality/winequality.names)__.\n",
    "\n",
    "Este problema puede ser abordado como clasificación de 11 clases o de regresión, ya que el atributo a estimar,\n",
    "*quality*, tiene un dominio como valor entero 0 y 10. La forma de resolverlo será a través de **ensamblados**.\n",
    "\n",
    "<img src=\"https://uploads.toptal.io/blog/image/92064/toptal-blog-image-1454584112948-fc1d35939aa1886bf30c816b3ac20e21.jpg\" title=\"Title text\" width=\"20%\"  />\n",
    "\n",
    "\n",
    "#### a) Carge los dos dataset en un único dataframe de pandas, además de agregar una columna indicando si es vino tinto o blanco. Describa el dataset a trabajar.\n"
   ]
  },
  {
   "cell_type": "code",
   "execution_count": 71,
   "metadata": {},
   "outputs": [
    {
     "name": "stdout",
     "output_type": "stream",
     "text": [
      "Cantidad de Vinos Tintos 1599\n",
      "Cantidad de Vinos Blancos 4898\n",
      "Cantidad total de ejemplos 6497\n"
     ]
    },
    {
     "data": {
      "text/html": [
       "<div>\n",
       "<style scoped>\n",
       "    .dataframe tbody tr th:only-of-type {\n",
       "        vertical-align: middle;\n",
       "    }\n",
       "\n",
       "    .dataframe tbody tr th {\n",
       "        vertical-align: top;\n",
       "    }\n",
       "\n",
       "    .dataframe thead th {\n",
       "        text-align: right;\n",
       "    }\n",
       "</style>\n",
       "<table border=\"1\" class=\"dataframe\">\n",
       "  <thead>\n",
       "    <tr style=\"text-align: right;\">\n",
       "      <th></th>\n",
       "      <th>fixed acidity</th>\n",
       "      <th>volatile acidity</th>\n",
       "      <th>citric acid</th>\n",
       "      <th>residual sugar</th>\n",
       "      <th>chlorides</th>\n",
       "      <th>free sulfur dioxide</th>\n",
       "      <th>total sulfur dioxide</th>\n",
       "      <th>density</th>\n",
       "      <th>pH</th>\n",
       "      <th>sulphates</th>\n",
       "      <th>alcohol</th>\n",
       "      <th>quality</th>\n",
       "      <th>Tipo</th>\n",
       "    </tr>\n",
       "  </thead>\n",
       "  <tbody>\n",
       "    <tr>\n",
       "      <th>0</th>\n",
       "      <td>7.4</td>\n",
       "      <td>0.70</td>\n",
       "      <td>0.00</td>\n",
       "      <td>1.9</td>\n",
       "      <td>0.076</td>\n",
       "      <td>11.0</td>\n",
       "      <td>34.0</td>\n",
       "      <td>0.9978</td>\n",
       "      <td>3.51</td>\n",
       "      <td>0.56</td>\n",
       "      <td>9.4</td>\n",
       "      <td>5</td>\n",
       "      <td>1</td>\n",
       "    </tr>\n",
       "    <tr>\n",
       "      <th>1</th>\n",
       "      <td>7.8</td>\n",
       "      <td>0.88</td>\n",
       "      <td>0.00</td>\n",
       "      <td>2.6</td>\n",
       "      <td>0.098</td>\n",
       "      <td>25.0</td>\n",
       "      <td>67.0</td>\n",
       "      <td>0.9968</td>\n",
       "      <td>3.20</td>\n",
       "      <td>0.68</td>\n",
       "      <td>9.8</td>\n",
       "      <td>5</td>\n",
       "      <td>1</td>\n",
       "    </tr>\n",
       "    <tr>\n",
       "      <th>2</th>\n",
       "      <td>7.8</td>\n",
       "      <td>0.76</td>\n",
       "      <td>0.04</td>\n",
       "      <td>2.3</td>\n",
       "      <td>0.092</td>\n",
       "      <td>15.0</td>\n",
       "      <td>54.0</td>\n",
       "      <td>0.9970</td>\n",
       "      <td>3.26</td>\n",
       "      <td>0.65</td>\n",
       "      <td>9.8</td>\n",
       "      <td>5</td>\n",
       "      <td>1</td>\n",
       "    </tr>\n",
       "    <tr>\n",
       "      <th>3</th>\n",
       "      <td>11.2</td>\n",
       "      <td>0.28</td>\n",
       "      <td>0.56</td>\n",
       "      <td>1.9</td>\n",
       "      <td>0.075</td>\n",
       "      <td>17.0</td>\n",
       "      <td>60.0</td>\n",
       "      <td>0.9980</td>\n",
       "      <td>3.16</td>\n",
       "      <td>0.58</td>\n",
       "      <td>9.8</td>\n",
       "      <td>6</td>\n",
       "      <td>1</td>\n",
       "    </tr>\n",
       "    <tr>\n",
       "      <th>4</th>\n",
       "      <td>7.4</td>\n",
       "      <td>0.70</td>\n",
       "      <td>0.00</td>\n",
       "      <td>1.9</td>\n",
       "      <td>0.076</td>\n",
       "      <td>11.0</td>\n",
       "      <td>34.0</td>\n",
       "      <td>0.9978</td>\n",
       "      <td>3.51</td>\n",
       "      <td>0.56</td>\n",
       "      <td>9.4</td>\n",
       "      <td>5</td>\n",
       "      <td>1</td>\n",
       "    </tr>\n",
       "    <tr>\n",
       "      <th>5</th>\n",
       "      <td>7.4</td>\n",
       "      <td>0.66</td>\n",
       "      <td>0.00</td>\n",
       "      <td>1.8</td>\n",
       "      <td>0.075</td>\n",
       "      <td>13.0</td>\n",
       "      <td>40.0</td>\n",
       "      <td>0.9978</td>\n",
       "      <td>3.51</td>\n",
       "      <td>0.56</td>\n",
       "      <td>9.4</td>\n",
       "      <td>5</td>\n",
       "      <td>1</td>\n",
       "    </tr>\n",
       "    <tr>\n",
       "      <th>6</th>\n",
       "      <td>7.9</td>\n",
       "      <td>0.60</td>\n",
       "      <td>0.06</td>\n",
       "      <td>1.6</td>\n",
       "      <td>0.069</td>\n",
       "      <td>15.0</td>\n",
       "      <td>59.0</td>\n",
       "      <td>0.9964</td>\n",
       "      <td>3.30</td>\n",
       "      <td>0.46</td>\n",
       "      <td>9.4</td>\n",
       "      <td>5</td>\n",
       "      <td>1</td>\n",
       "    </tr>\n",
       "    <tr>\n",
       "      <th>7</th>\n",
       "      <td>7.3</td>\n",
       "      <td>0.65</td>\n",
       "      <td>0.00</td>\n",
       "      <td>1.2</td>\n",
       "      <td>0.065</td>\n",
       "      <td>15.0</td>\n",
       "      <td>21.0</td>\n",
       "      <td>0.9946</td>\n",
       "      <td>3.39</td>\n",
       "      <td>0.47</td>\n",
       "      <td>10.0</td>\n",
       "      <td>7</td>\n",
       "      <td>1</td>\n",
       "    </tr>\n",
       "    <tr>\n",
       "      <th>8</th>\n",
       "      <td>7.8</td>\n",
       "      <td>0.58</td>\n",
       "      <td>0.02</td>\n",
       "      <td>2.0</td>\n",
       "      <td>0.073</td>\n",
       "      <td>9.0</td>\n",
       "      <td>18.0</td>\n",
       "      <td>0.9968</td>\n",
       "      <td>3.36</td>\n",
       "      <td>0.57</td>\n",
       "      <td>9.5</td>\n",
       "      <td>7</td>\n",
       "      <td>1</td>\n",
       "    </tr>\n",
       "    <tr>\n",
       "      <th>9</th>\n",
       "      <td>7.5</td>\n",
       "      <td>0.50</td>\n",
       "      <td>0.36</td>\n",
       "      <td>6.1</td>\n",
       "      <td>0.071</td>\n",
       "      <td>17.0</td>\n",
       "      <td>102.0</td>\n",
       "      <td>0.9978</td>\n",
       "      <td>3.35</td>\n",
       "      <td>0.80</td>\n",
       "      <td>10.5</td>\n",
       "      <td>5</td>\n",
       "      <td>1</td>\n",
       "    </tr>\n",
       "  </tbody>\n",
       "</table>\n",
       "</div>"
      ],
      "text/plain": [
       "   fixed acidity  volatile acidity  citric acid  residual sugar  chlorides  \\\n",
       "0            7.4              0.70         0.00             1.9      0.076   \n",
       "1            7.8              0.88         0.00             2.6      0.098   \n",
       "2            7.8              0.76         0.04             2.3      0.092   \n",
       "3           11.2              0.28         0.56             1.9      0.075   \n",
       "4            7.4              0.70         0.00             1.9      0.076   \n",
       "5            7.4              0.66         0.00             1.8      0.075   \n",
       "6            7.9              0.60         0.06             1.6      0.069   \n",
       "7            7.3              0.65         0.00             1.2      0.065   \n",
       "8            7.8              0.58         0.02             2.0      0.073   \n",
       "9            7.5              0.50         0.36             6.1      0.071   \n",
       "\n",
       "   free sulfur dioxide  total sulfur dioxide  density    pH  sulphates  \\\n",
       "0                 11.0                  34.0   0.9978  3.51       0.56   \n",
       "1                 25.0                  67.0   0.9968  3.20       0.68   \n",
       "2                 15.0                  54.0   0.9970  3.26       0.65   \n",
       "3                 17.0                  60.0   0.9980  3.16       0.58   \n",
       "4                 11.0                  34.0   0.9978  3.51       0.56   \n",
       "5                 13.0                  40.0   0.9978  3.51       0.56   \n",
       "6                 15.0                  59.0   0.9964  3.30       0.46   \n",
       "7                 15.0                  21.0   0.9946  3.39       0.47   \n",
       "8                  9.0                  18.0   0.9968  3.36       0.57   \n",
       "9                 17.0                 102.0   0.9978  3.35       0.80   \n",
       "\n",
       "   alcohol  quality  Tipo  \n",
       "0      9.4        5     1  \n",
       "1      9.8        5     1  \n",
       "2      9.8        5     1  \n",
       "3      9.8        6     1  \n",
       "4      9.4        5     1  \n",
       "5      9.4        5     1  \n",
       "6      9.4        5     1  \n",
       "7     10.0        7     1  \n",
       "8      9.5        7     1  \n",
       "9     10.5        5     1  "
      ]
     },
     "execution_count": 71,
     "metadata": {},
     "output_type": "execute_result"
    }
   ],
   "source": [
    "import pandas as pd\n",
    "df_red = pd.read_csv(\"winequality-red.csv\",sep=\";\") #Vinos tintos\n",
    "print(\"Cantidad de Vinos Tintos\",len(df_red))\n",
    "df_red.loc[:,'Tipo'] = 1\n",
    "df_white = pd.read_csv(\"winequality-white.csv\",sep=\";\") #Vinos blanco\n",
    "print(\"Cantidad de Vinos Blancos\",len(df_white))\n",
    "df_white.loc[:,'Tipo'] = 10\n",
    "df = pd.concat([df_red,df_white], axis=0)\n",
    "print(\"Cantidad total de ejemplos\", len(df))\n",
    "df.head(10)"
   ]
  },
  {
   "cell_type": "markdown",
   "metadata": {},
   "source": [
    "Variables de entrada (basadas en pruebas fisicoquímicas):\n",
    "\n",
    "1. acidez fija \n",
    "2. acidez volátil \n",
    "3. ácido cítrico \n",
    "4. azúcar residual \n",
    "5. cloruros \n",
    "6. dióxido de azufre libre \n",
    "7. dióxido de azufre total \n",
    "8. densidad \n",
    "9. pH \n",
    "10. sulfatos \n",
    "11. alcohol \n",
    "12. calidad (puntuación entre 0 y 10)\n",
    "11. Tipo\n",
    "\n",
    "#### b) Aborde este problema como si fuera de clasificación con multiples clases para predecir el valor de calidad de un vino, es decir, utilice las distintas caracterı́sticas fisioquı́micas presentes en los datos para estimar la etiqueta ¿Cuántas clases son y cuántos ejemplos hay por clase? ¿Qué sucede con predecir si un vino tiene calidad mínima (0) o máxima(10)? Además para el propósito académico de esta actividad cree un conjunto de pruebas (20%)  para evaluar la generalización final del modelo y otro de validación (20%) si estima conveniente. \n",
    "\n",
    "  Nota: varios de los atributos pueden estar correlacionados, por lo que tiene sentido aplicar algún tipo de\n",
    "   selección de características."
   ]
  },
  {
   "cell_type": "code",
   "execution_count": 72,
   "metadata": {},
   "outputs": [
    {
     "name": "stdout",
     "output_type": "stream",
     "text": [
      "valores de variable calidad \n",
      " 6    2836\n",
      "5    2138\n",
      "7    1079\n",
      "4     216\n",
      "8     193\n",
      "3      30\n",
      "9       5\n",
      "Name: quality, dtype: int64\n",
      "Cantidad ejemplos conjunto entrenamiento:  3897\n",
      "Cantidad ejemplos conjunto validación:  1300\n",
      "Cantidad ejemplos conjunto pruebas:  1300\n"
     ]
    }
   ],
   "source": [
    "print(\"valores de variable calidad \\n\", df.quality.value_counts())\n",
    "df = df.sample(frac=1,random_state=44) #Desordena los datos\n",
    "#Conjunto de entrenamiento y validacion 1300 ejemplos cada uno (20%)\n",
    "df_train = df.iloc[:-2600]  #todo el conjunto menos los ultimos 2600\n",
    "print(\"Cantidad ejemplos conjunto entrenamiento: \",len(df_train))\n",
    "df = df.iloc[-2600:]    #ultimos 2600 valores del conjunto\n",
    "df_test = df.iloc[:-1300] #todo el conjunto menos los ultimos 1300\n",
    "df_val = df.iloc[-1300:]  #ultimos 1300 valores del conjunto\n",
    "print(\"Cantidad ejemplos conjunto validación: \",len(df_val))\n",
    "print(\"Cantidad ejemplos conjunto pruebas: \",len(df_test))"
   ]
  },
  {
   "cell_type": "markdown",
   "metadata": {},
   "source": [
    "+ Se tienen 7 salidad diferentes, además sera imposible que el learned aprenda cuando un vino tiene calidad 10 o 0 debido a que no tiene ejemplos para esas etiquetas."
   ]
  },
  {
   "cell_type": "code",
   "execution_count": 73,
   "metadata": {},
   "outputs": [
    {
     "data": {
      "image/png": "[encoded data removed]",
      "text/plain": [
       "<Figure size 432x288 with 1 Axes>"
      ]
     },
     "metadata": {
      "needs_background": "light"
     },
     "output_type": "display_data"
    },
    {
     "data": {
      "image/png": "[encoded data removed]",
      "text/plain": [
       "<Figure size 432x288 with 1 Axes>"
      ]
     },
     "metadata": {
      "needs_background": "light"
     },
     "output_type": "display_data"
    },
    {
     "data": {
      "image/png": "[encoded data removed]",
      "text/plain": [
       "<Figure size 432x288 with 1 Axes>"
      ]
     },
     "metadata": {
      "needs_background": "light"
     },
     "output_type": "display_data"
    }
   ],
   "source": [
    "#Verificar si la cantidad de vinos esta bien distribuida.\n",
    "import matplotlib.pyplot as plt\n",
    "import numpy as np\n",
    "import warnings\n",
    "import matplotlib.cbook\n",
    "warnings.filterwarnings(\"ignore\",category=matplotlib.cbook.mplDeprecation)\n",
    "#Conjunro entretamiento\n",
    "eje_x=[\"Tinto\",\"Blanco\"]\n",
    "X = np.arange(2)\n",
    "plt.bar(X,df_train.Tipo.value_counts(), align='center',color=[\"r\",\"b\"])\n",
    "ax =plt.axes()\n",
    "ax.set_xticks(X)\n",
    "ax.set_xticklabels(eje_x)\n",
    "plt.title(\"Tipos de vino conjunto entrenamiento\") #titulo\n",
    "plt.xlabel('vinos') #Nombre eje x\n",
    "plt.ylabel('Cantidad') #Nombre eje y\n",
    "plt.show()\n",
    "#Conjunto prueba\n",
    "plt.bar(X,df_test.Tipo.value_counts(), align='center',color=[\"r\",\"b\"])\n",
    "ax =plt.axes()\n",
    "ax.set_xticks(X)\n",
    "ax.set_xticklabels(eje_x)\n",
    "plt.title(\"Tipos de vino conjunto prueba\") #titulo\n",
    "plt.xlabel('vinos') #Nombre eje x\n",
    "plt.ylabel('Cantidad') #Nombre eje y\n",
    "plt.show()\n",
    "#Conjunto de validación\n",
    "plt.bar(X,df_val.Tipo.value_counts(), align='center',color=[\"r\",\"b\"])\n",
    "ax =plt.axes()\n",
    "ax.set_xticks(X)\n",
    "ax.set_xticklabels(eje_x)\n",
    "plt.title(\"Tipos de vino conjunto Validación\") #titulo\n",
    "plt.xlabel('vinos') #Nombre eje x\n",
    "plt.ylabel('Cantidad') #Nombre eje y\n",
    "plt.show()"
   ]
  },
  {
   "cell_type": "markdown",
   "metadata": {},
   "source": [
    "+ Se comprueba que la cantidad de vino tinto y blanco esta bien distribuida en todos loa conjuntos"
   ]
  },
  {
   "cell_type": "code",
   "execution_count": 74,
   "metadata": {},
   "outputs": [],
   "source": [
    "#Creacion conjuntos\n",
    "Y_train = df_train['quality'].values  #Variable de salida entrenamiento\n",
    "Y_val = df_val['quality'].values  #Variable de salida validacion\n",
    "Y_test = df_test['quality'].values  #Variable de salida test\n",
    "X_train = df_train.drop([\"quality\",\"alcohol\"],axis=1).values #Variable de entrada entrenamiento\n",
    "X_val = df_val.drop([\"quality\",\"alcohol\"],axis=1).values #Variable de entrada validacion\n",
    "X_test = df_test.drop([\"quality\",\"alcohol\"],axis=1).values #Variable de entrada test"
   ]
  },
  {
   "cell_type": "markdown",
   "metadata": {},
   "source": [
    "+ Se elimina la dimension alcohol, ya que despues de hacer pruebas se lograron mejores  resultados.\n",
    "\n",
    "#### c) Entrene un solo Árbol de Clasificación de múltiples niveles para resolver el problema. Defina un Árbol **no regularizado** (como el que no tiene límites en su profundidad) y otro Árbol **regularizado** (variando los hiper-parámetros que prefiera, por ejemplo, los más comunes como la profundidad, el número mínimo de datos para realizar *split* o el número mínimo de datos en cada hoja), recuerde que las **decisiones** no pueden ser basadas mirando el conjunto de pruebas. Debido al desbalanceo que se produce en las clases mida la métrica F1-score [[2]](#refs) sobre el conjunto de entrenamiento y de pruebas."
   ]
  },
  {
   "cell_type": "code",
   "execution_count": 58,
   "metadata": {},
   "outputs": [
    {
     "name": "stdout",
     "output_type": "stream",
     "text": [
      "Resultados arbol no regularizado\n",
      "f score Validation 0.6023076923076923\n",
      "f score train 1.0\n",
      "Resultados arbol regularizado modificando la profundidad\n"
     ]
    },
    {
     "data": {
      "application/vnd.jupyter.widget-view+json": {
       "model_id": "710a0c2cd8f94a99b3ccc6bf9a672fd2",
       "version_major": 2,
       "version_minor": 0
      },
      "text/plain": [
       "interactive(children=(IntSlider(value=18, description='param', max=35, min=1), Output()), _dom_classes=('widge…"
      ]
     },
     "metadata": {},
     "output_type": "display_data"
    }
   ],
   "source": [
    "from ipywidgets import interactive\n",
    "from sklearn.tree import DecisionTreeClassifier as Tree\n",
    "from sklearn.metrics import f1_score\n",
    "\n",
    "#Arbol no regularizado\n",
    "print(\"Resultados arbol no regularizado\")\n",
    "model= Tree()\n",
    "model.set_params(criterion='gini',splitter='best')\n",
    "model.fit(X_train,Y_train)\n",
    "y_pred=model.predict(X_val)\n",
    "print(\"f score Validation\",f1_score(Y_val, y_pred,average='micro'))\n",
    "y_pred=model.predict(X_train)\n",
    "print(\"f score train\",f1_score(Y_train, y_pred,average='micro'))\n",
    "\n",
    "#Arbol regularizado\n",
    "print(\"Resultados arbol regularizado modificando la profundidad\")\n",
    "def visualize_border_interactive(param):\n",
    "    model = train_model(param)\n",
    "\n",
    "def train_model(param):\n",
    "    model= Tree()\n",
    "    model.set_params(max_depth=param,criterion='gini',splitter='best')\n",
    "    model.fit(X_train,Y_train)\n",
    "    y_pred=model.predict(X_val)\n",
    "    print(\"f score Validation\",f1_score(Y_val, y_pred,average='micro'))\n",
    "    y_pred=model.predict(X_train)\n",
    "    print(\"f score train\",f1_score(Y_train, y_pred,average='micro'))\n",
    "    return model\n",
    "\n",
    "#Profundidad\n",
    "p_min = 1\n",
    "p_max = 35 \n",
    "interactive(visualize_border_interactive,param=(p_min,p_max))"
   ]
  },
  {
   "cell_type": "code",
   "execution_count": 59,
   "metadata": {},
   "outputs": [
    {
     "data": {
      "image/png": "[encoded data removed]",
      "text/plain": [
       "<Figure size 432x288 with 1 Axes>"
      ]
     },
     "metadata": {
      "needs_background": "light"
     },
     "output_type": "display_data"
    }
   ],
   "source": [
    "# Grafico de ajuste del árbol regularizado\n",
    "train_prec =  []\n",
    "eval_prec = []\n",
    "max_deep_list = list(range(1, 27))\n",
    "\n",
    "for deep in max_deep_list:\n",
    "    model= Tree()\n",
    "    model.set_params(max_depth=deep,criterion='gini',splitter='best') #se probo con entropy y se llego a lo mismo\n",
    "    model.fit(X_train,Y_train)\n",
    "    train_prec.append(model.score(X_train,Y_train))\n",
    "    eval_prec.append(model.score(X_val,Y_val))\n",
    "\n",
    "# graficar los resultados.\n",
    "plt.plot(max_deep_list, train_prec, color='r', label='Entrenamiento')\n",
    "plt.plot(max_deep_list, eval_prec, color='b', label='Validacion')\n",
    "plt.title('Grafico de ajuste arbol de decision')\n",
    "plt.legend()\n",
    "plt.ylabel('precision')\n",
    "plt.xlabel('profundidad')\n",
    "plt.show()"
   ]
  },
  {
   "cell_type": "markdown",
   "metadata": {},
   "source": [
    "+ Calcule la puntuación F1, también conocida como puntuación F equilibrada o medida F\n",
    "+ El puntaje de F1 se puede interpretar como un promedio ponderado de la precisión y el recuerdo, donde un puntaje de F1 alcanza su mejor valor con 1 y el peor puntaje con 0. La contribución relativa de la precisión y el recuerdo al puntaje de F1 son iguales. La fórmula para el puntaje de F1 es:\n",
    "+ En el caso de clases múltiples y etiquetas múltiples, este es el promedio de la puntuación de F1 de cada clase con ponderación según el average parámetro.\n",
    "+ Valores que se le puede dar a average:\n",
    "+ El árbol no regularizado alcanza una confianza del 60%  mientras que el regularizado con profundidad 10 alcanza una confianza del 55% pero produce mucho menor overfiting.\n",
    "\n",
    "'binary': Solo informe los resultados para la clase especificada por pos_label. Esto es aplicable solo si los objetivos ( y_{true,pred}) son binarios.\n",
    "\n",
    "'micro': Calcule las métricas globalmente contando el total de verdaderos positivos, falsos negativos y falsos positivos.\n",
    "\n",
    "'macro': Calcule las métricas para cada etiqueta y encuentre su media no ponderada. Esto no tiene en cuenta el desequilibrio de la etiqueta.\n",
    "\n",
    "'weighted': Calcule las métricas para cada etiqueta y encuentre su ponderación promedio por soporte (el número de instancias reales para cada etiqueta). Esto altera 'macro' para tener en cuenta el desequilibrio de la etiqueta; puede dar lugar a una puntuación F que no se encuentra entre la precisión y la recuperación.\n",
    "\n",
    "'samples': Calcule las métricas para cada instancia y encuentre su promedio (solo significativo para la clasificación de varias capas en la que difiere accuracy_score).\n",
    "\n",
    "#### d) Entrene un ensamblado de árboles de múltiples niveles, mediante la técnica de **Bagging**, compare el Árbol **no regularizado** con el **regularizado** (*seteando los hiper-parámetros en base a lo experimentado anteriormente en c)*) ¿Qué debería suceder? ¿Se visualiza *overfitting*? Varíe la cantidad de árboles de decisión utilizados en el ensamblado (*n estimators*), realice un gráfico resumen del F1-score de entrenamiento y de pruebas en función de este hiper-parámetro."
   ]
  },
  {
   "cell_type": "code",
   "execution_count": 60,
   "metadata": {},
   "outputs": [
    {
     "name": "stdout",
     "output_type": "stream",
     "text": [
      "Arbol no regularizado\n",
      "f score Validation 0.6515384615384615\n",
      "f score train 1.0\n",
      "Arbol regularizado\n",
      "f score Validation 0.6169230769230769\n",
      "f score train 0.8632281241981011\n"
     ]
    }
   ],
   "source": [
    "from numpy.core.umath_tests import inner1d\n",
    "from sklearn.ensemble import BaggingClassifier\n",
    "\n",
    "print(\"Arbol no regularizado\")\n",
    "model = BaggingClassifier(base_estimator=Tree(max_depth=None), n_estimators=100, n_jobs=-1)\n",
    "model.fit(X_train,Y_train)\n",
    "y_pred=model.predict(X_val)\n",
    "print(\"f score Validation\",f1_score(Y_val, y_pred,average='micro'))\n",
    "y_pred=model.predict(X_train)\n",
    "print(\"f score train\",f1_score(Y_train, y_pred,average='micro'))\n",
    "\n",
    "print(\"Arbol regularizado\")\n",
    "model = BaggingClassifier(base_estimator=Tree(max_depth=10), n_estimators=100, n_jobs=-1)\n",
    "model.fit(X_train,Y_train)\n",
    "y_pred=model.predict(X_val)\n",
    "print(\"f score Validation\",f1_score(Y_val, y_pred,average='micro'))\n",
    "y_pred=model.predict(X_train)\n",
    "print(\"f score train\",f1_score(Y_train, y_pred,average='micro'))"
   ]
  },
  {
   "cell_type": "markdown",
   "metadata": {},
   "source": [
    "+ SE entreno con 100 estimadores y en el caso del arbol regularizado se uso profundidad 10\n",
    "+ Se concluye que Bagging consigue mejores resultados con un arbol no regularizado.\n",
    "+ La confianza del Baggling en el arbol no regularizado para el conjunto de validación es 65% vs tan solo un 62% del arbol regularizado.\n",
    "\n",
    "#### e) Entrene un ensamblado de árboles de múltiples niveles, mediante la técnica de **AdaBoost**, compare el Árbol **no regularizado** con el **regularizado** (*seteando los hiper-parámetros en base a lo experimentado anteriormente en c)* ¿Se visualiza *overfitting*? ¿Qué técnica se utiliza, *re-muestrear* o *pesar* ejemplos? ¿Qué le parece más sensato?. Varíe la cantidad de árboles de decisión utilizados en el ensamblado (*n estimators*), realice un gráfico resumen del F1-score de entrenamiento y de pruebas en función de este hiper-parámetro. Compare y analice con la técnica utilizada en d)."
   ]
  },
  {
   "cell_type": "code",
   "execution_count": 61,
   "metadata": {},
   "outputs": [
    {
     "name": "stdout",
     "output_type": "stream",
     "text": [
      "Arbol no regularizado\n",
      "f score Validation 0.6069230769230769\n",
      "f score train 1.0\n",
      "Arbol regularizado\n",
      "f score Validation 0.6676923076923077\n",
      "f score train 1.0\n"
     ]
    }
   ],
   "source": [
    "from sklearn.ensemble import AdaBoostClassifier\n",
    "print(\"Arbol no regularizado\")\n",
    "model = AdaBoostClassifier(base_estimator=Tree(max_depth=None), n_estimators=100)\n",
    "model.fit(X_train,Y_train)\n",
    "y_pred=model.predict(X_val)\n",
    "print(\"f score Validation\",f1_score(Y_val, y_pred,average='micro'))\n",
    "y_pred=model.predict(X_train)\n",
    "print(\"f score train\",f1_score(Y_train, y_pred,average='micro'))\n",
    "print(\"Arbol regularizado\")\n",
    "model = AdaBoostClassifier(base_estimator=Tree(max_depth=10), n_estimators=100)\n",
    "model.fit(X_train,Y_train)\n",
    "y_pred=model.predict(X_val)\n",
    "print(\"f score Validation\",f1_score(Y_val, y_pred,average='micro'))\n",
    "y_pred=model.predict(X_train)\n",
    "print(\"f score train\",f1_score(Y_train, y_pred,average='micro'))"
   ]
  },
  {
   "cell_type": "markdown",
   "metadata": {},
   "source": [
    "+ Se consiguieron mejores resultados con el arbol regularizado con un 66% de confianza.\n",
    "+ Por lo tanto entrenar un AdaBoost con un arbol regularizado es mejor.\n",
    "\n",
    "#### f) Pruebe otra técnica de ensamblado dedicada a árboles de decisión, que combina el muestreo *boostrap* de *Bagging* con muestreo sobre las *features*: **Random Forest**, compare el Árbol **no regularizado** con el **regularizado** ¿Se visualiza *overfitting*?. Varíe la cantidad de árboles de decisión utilizados en el ensamblado (*n estimators*), realice un gráfico resumen el F1-score de entrenamiento y de pruebas en función de este hiper-parámetro."
   ]
  },
  {
   "cell_type": "code",
   "execution_count": 62,
   "metadata": {},
   "outputs": [
    {
     "name": "stdout",
     "output_type": "stream",
     "text": [
      "Arbol no regularizado\n",
      "f score Validation 0.6484615384615384\n",
      "f score train 1.0\n",
      "Arbol regularizado\n",
      "f score Validation 0.6207692307692307\n",
      "f score train 0.8375673595073133\n"
     ]
    }
   ],
   "source": [
    "from sklearn.ensemble import RandomForestClassifier\n",
    "print(\"Arbol no regularizado\")\n",
    "model = RandomForestClassifier(n_estimators=100, max_depth=None,n_jobs=-1,oob_score = True)\n",
    "model.fit(X_train,Y_train)\n",
    "y_pred=model.predict(X_val)\n",
    "print(\"f score Validation\",f1_score(Y_val, y_pred,average='micro'))\n",
    "y_pred=model.predict(X_train)\n",
    "print(\"f score train\",f1_score(Y_train, y_pred,average='micro'))\n",
    "\n",
    "print(\"Arbol regularizado\")\n",
    "model = RandomForestClassifier(n_estimators=100, max_depth=10,n_jobs=-1,oob_score = True)\n",
    "model.fit(X_train,Y_train)\n",
    "y_pred=model.predict(X_val)\n",
    "print(\"f score Validation\",f1_score(Y_val, y_pred,average='micro'))\n",
    "y_pred=model.predict(X_train)\n",
    "print(\"f score train\",f1_score(Y_train, y_pred,average='micro'))"
   ]
  },
  {
   "cell_type": "markdown",
   "metadata": {},
   "source": [
    "+ Se consiguen resultados muy similares a Baggling pero esta vez en el arbol regularizado se reduce bastante en overfiting lo cual es muy importante a la hora de escojer un modelo.\n",
    "\n",
    "#### g) Verifique que el **OOB error** (*out of bag error*) de los ensambladores que utilizan la técnica *boostrap* puede ser una alternativa como métrica de generalización, compárelo con el error calculado sobre el conjunto de pruebas y validación (o en su defecto *cross validation*)."
   ]
  },
  {
   "cell_type": "code",
   "execution_count": 63,
   "metadata": {},
   "outputs": [
    {
     "name": "stdout",
     "output_type": "stream",
     "text": [
      "OOB error:  0.38850397741852705\n",
      "Val error:  0.37923076923076926\n",
      "Test error:  0.40230769230769226\n",
      "Train error:  0.1624326404926867\n"
     ]
    }
   ],
   "source": [
    "oob_error = 1 - model.oob_score_\n",
    "test_error = 1- model.score(X_test,Y_test)\n",
    "val_error = 1- model.score(X_val,Y_val)\n",
    "train_error = 1- model.score(X_train,Y_train)\n",
    "print(\"OOB error: \",oob_error)\n",
    "print (\"Val error: \",val_error)\n",
    "print(\"Test error: \",test_error)\n",
    "print(\"Train error: \",train_error)"
   ]
  },
  {
   "cell_type": "markdown",
   "metadata": {},
   "source": [
    "+ OBB Consigue un error muy similar a los obtenidos en el conjunto de test y validación.\n",
    "\n",
    "#### h) Entrene alguna otra máquina de aprendizaje, elegida por usted de entre todas las vistas en el curso, para resolver el problema. Elija los hiper-parámetros que estime convenientes intentando aumentar el *F1-scor*e obtenido por los algoritmos anteriores ¿Se logra una mejora? ¿Por qué?"
   ]
  },
  {
   "cell_type": "code",
   "execution_count": 64,
   "metadata": {
    "scrolled": true
   },
   "outputs": [
    {
     "data": {
      "application/vnd.jupyter.widget-view+json": {
       "model_id": "97ff8c6931594ec5b485fcd55fcac561",
       "version_major": 2,
       "version_minor": 0
      },
      "text/plain": [
       "interactive(children=(IntSlider(value=15, description='param', max=30), Output()), _dom_classes=('widget-inter…"
      ]
     },
     "metadata": {},
     "output_type": "display_data"
    }
   ],
   "source": [
    "from sklearn.neighbors import KNeighborsClassifier\n",
    "def train_model(param):\n",
    "    k=param\n",
    "    print(\"Parametro K = \",k)\n",
    "    model = KNeighborsClassifier()  \n",
    "    model.set_params(n_neighbors=param)\n",
    "    model.fit(X_train,Y_train)\n",
    "    y_pred=model.predict(X_val)\n",
    "    print(\"f score\",f1_score(Y_val, y_pred,average='micro'))\n",
    "    return model\n",
    "\n",
    "p_min = 0 #define your range\n",
    "p_max = 30 #define your range\n",
    "interactive(visualize_border_interactive,param=(p_min,p_max))"
   ]
  },
  {
   "cell_type": "markdown",
   "metadata": {},
   "source": [
    "+ Se Utilizo K-nn con resultados de solo el 50% de accuaracy"
   ]
  },
  {
   "cell_type": "code",
   "execution_count": 65,
   "metadata": {},
   "outputs": [
    {
     "data": {
      "application/vnd.jupyter.widget-view+json": {
       "model_id": "ae82492dfce242c7a2e2e408d74763c0",
       "version_major": 2,
       "version_minor": 0
      },
      "text/plain": [
       "interactive(children=(IntSlider(value=0, description='param', max=6, min=-6), Output()), _dom_classes=('widget…"
      ]
     },
     "metadata": {},
     "output_type": "display_data"
    }
   ],
   "source": [
    "from sklearn.svm import SVC as SVM #SVC is for classification\n",
    "def train_model(param):\n",
    "    model= SVM()\n",
    "    C = 10**(param)\n",
    "    print(\"Param C= \",C)\n",
    "    model.set_params(C=C,kernel='rbf')\n",
    "    model.fit(X_train,Y_train)\n",
    "    y_pred=model.predict(X_val)\n",
    "    print(\"f score\",f1_score(Y_val, y_pred,average='micro'))\n",
    "    return model\n",
    "p_min = -6 #define your range\n",
    "p_max = 6 #define your range\n",
    "\n",
    "interactive(visualize_border_interactive,param=(p_min,p_max))"
   ]
  },
  {
   "cell_type": "markdown",
   "metadata": {},
   "source": [
    "+ Se entreno una CVM con resultados solo de un 50%  de accuaracy\n",
    "#### i) Compare y analice las distintas maneras con las que se resolvió el problema definido en b), por ejemplo incluya las decisiones que conlleva y los resultados que reflejan.\n",
    "\n",
    "\n",
    "+ Primero se agrego la fila tipo, donde 1 corresponde si es tinto y 0 cuando es blanco.\n",
    "+ Se elimina la columna alcohol.\n",
    "+ se entreno un arbol de desicion regularisado donde se escoje que la profundidad 9 es la mejor.\n",
    "+ Se entreno en ensamblado de arboles de decisión con 100 arboles con una confianza del 60%.\n",
    "+ Se entreno un adaboots con una confienza del 63% pero presenta mucho overfiting.\n",
    "+ Se entrena un random Forest con una confianza del 60% pero presenta el menor overfiting\n",
    "+ Se entreno un K-nn.\n",
    "+ Se entreno un SVM.\n",
    "+ Tanto k-nn y SVM no lograron superar el 50% de confianza\n",
    "\n",
    "Finalmente se conseguieron los mejores resultados respecto al conjunto de pruebas con adaboots y random forest con una confianza del 63% y 60%"
   ]
  },
  {
   "cell_type": "markdown",
   "metadata": {},
   "source": [
    "#### j) Defina otra forma de combinar los valores que entregan los ensamblados al hacer predicciones y compare con lo que se hace actualmente, por ejemplo *Bagging* realiza el voto de la mayoría para clasificación y promedio para regresión, *AdaBoost* realiza una combinación ponderada de cada clasificador dependiendo de su *habilidad* (desempeño para clasificar el conjunto de entrenamiento)."
   ]
  },
  {
   "cell_type": "code",
   "execution_count": 66,
   "metadata": {},
   "outputs": [
    {
     "ename": "ValueError",
     "evalue": "Expected array-like (array or non-string sequence), got None",
     "output_type": "error",
     "traceback": [
      "\u001b[0;31m---------------------------------------------------------------------------\u001b[0m",
      "\u001b[0;31mValueError\u001b[0m                                Traceback (most recent call last)",
      "\u001b[0;32m<ipython-input-66-ccad8ce1a025>\u001b[0m in \u001b[0;36m<module>\u001b[0;34m()\u001b[0m\n\u001b[1;32m      5\u001b[0m \u001b[0mnew_predictions\u001b[0m \u001b[0;34m=\u001b[0m \u001b[0mcombine_predictions\u001b[0m\u001b[0;34m(\u001b[0m\u001b[0mlist_predictions\u001b[0m\u001b[0;34m)\u001b[0m\u001b[0;34m\u001b[0m\u001b[0m\n\u001b[1;32m      6\u001b[0m \u001b[0;31m#measure f1 score\u001b[0m\u001b[0;34m\u001b[0m\u001b[0;34m\u001b[0m\u001b[0m\n\u001b[0;32m----> 7\u001b[0;31m \u001b[0mf1_score\u001b[0m\u001b[0;34m(\u001b[0m\u001b[0mY_test\u001b[0m\u001b[0;34m,\u001b[0m \u001b[0mnew_predictions\u001b[0m\u001b[0;34m)\u001b[0m\u001b[0;34m\u001b[0m\u001b[0m\n\u001b[0m",
      "\u001b[0;32m~/anaconda3/lib/python3.7/site-packages/sklearn/metrics/classification.py\u001b[0m in \u001b[0;36mf1_score\u001b[0;34m(y_true, y_pred, labels, pos_label, average, sample_weight)\u001b[0m\n\u001b[1;32m    712\u001b[0m     return fbeta_score(y_true, y_pred, 1, labels=labels,\n\u001b[1;32m    713\u001b[0m                        \u001b[0mpos_label\u001b[0m\u001b[0;34m=\u001b[0m\u001b[0mpos_label\u001b[0m\u001b[0;34m,\u001b[0m \u001b[0maverage\u001b[0m\u001b[0;34m=\u001b[0m\u001b[0maverage\u001b[0m\u001b[0;34m,\u001b[0m\u001b[0;34m\u001b[0m\u001b[0m\n\u001b[0;32m--> 714\u001b[0;31m                        sample_weight=sample_weight)\n\u001b[0m\u001b[1;32m    715\u001b[0m \u001b[0;34m\u001b[0m\u001b[0m\n\u001b[1;32m    716\u001b[0m \u001b[0;34m\u001b[0m\u001b[0m\n",
      "\u001b[0;32m~/anaconda3/lib/python3.7/site-packages/sklearn/metrics/classification.py\u001b[0m in \u001b[0;36mfbeta_score\u001b[0;34m(y_true, y_pred, beta, labels, pos_label, average, sample_weight)\u001b[0m\n\u001b[1;32m    826\u001b[0m                                                  \u001b[0maverage\u001b[0m\u001b[0;34m=\u001b[0m\u001b[0maverage\u001b[0m\u001b[0;34m,\u001b[0m\u001b[0;34m\u001b[0m\u001b[0m\n\u001b[1;32m    827\u001b[0m                                                  \u001b[0mwarn_for\u001b[0m\u001b[0;34m=\u001b[0m\u001b[0;34m(\u001b[0m\u001b[0;34m'f-score'\u001b[0m\u001b[0;34m,\u001b[0m\u001b[0;34m)\u001b[0m\u001b[0;34m,\u001b[0m\u001b[0;34m\u001b[0m\u001b[0m\n\u001b[0;32m--> 828\u001b[0;31m                                                  sample_weight=sample_weight)\n\u001b[0m\u001b[1;32m    829\u001b[0m     \u001b[0;32mreturn\u001b[0m \u001b[0mf\u001b[0m\u001b[0;34m\u001b[0m\u001b[0m\n\u001b[1;32m    830\u001b[0m \u001b[0;34m\u001b[0m\u001b[0m\n",
      "\u001b[0;32m~/anaconda3/lib/python3.7/site-packages/sklearn/metrics/classification.py\u001b[0m in \u001b[0;36mprecision_recall_fscore_support\u001b[0;34m(y_true, y_pred, beta, labels, pos_label, average, warn_for, sample_weight)\u001b[0m\n\u001b[1;32m   1023\u001b[0m         \u001b[0;32mraise\u001b[0m \u001b[0mValueError\u001b[0m\u001b[0;34m(\u001b[0m\u001b[0;34m\"beta should be >0 in the F-beta score\"\u001b[0m\u001b[0;34m)\u001b[0m\u001b[0;34m\u001b[0m\u001b[0m\n\u001b[1;32m   1024\u001b[0m \u001b[0;34m\u001b[0m\u001b[0m\n\u001b[0;32m-> 1025\u001b[0;31m     \u001b[0my_type\u001b[0m\u001b[0;34m,\u001b[0m \u001b[0my_true\u001b[0m\u001b[0;34m,\u001b[0m \u001b[0my_pred\u001b[0m \u001b[0;34m=\u001b[0m \u001b[0m_check_targets\u001b[0m\u001b[0;34m(\u001b[0m\u001b[0my_true\u001b[0m\u001b[0;34m,\u001b[0m \u001b[0my_pred\u001b[0m\u001b[0;34m)\u001b[0m\u001b[0;34m\u001b[0m\u001b[0m\n\u001b[0m\u001b[1;32m   1026\u001b[0m     \u001b[0mpresent_labels\u001b[0m \u001b[0;34m=\u001b[0m \u001b[0munique_labels\u001b[0m\u001b[0;34m(\u001b[0m\u001b[0my_true\u001b[0m\u001b[0;34m,\u001b[0m \u001b[0my_pred\u001b[0m\u001b[0;34m)\u001b[0m\u001b[0;34m\u001b[0m\u001b[0m\n\u001b[1;32m   1027\u001b[0m \u001b[0;34m\u001b[0m\u001b[0m\n",
      "\u001b[0;32m~/anaconda3/lib/python3.7/site-packages/sklearn/metrics/classification.py\u001b[0m in \u001b[0;36m_check_targets\u001b[0;34m(y_true, y_pred)\u001b[0m\n\u001b[1;32m     71\u001b[0m     \u001b[0mcheck_consistent_length\u001b[0m\u001b[0;34m(\u001b[0m\u001b[0my_true\u001b[0m\u001b[0;34m,\u001b[0m \u001b[0my_pred\u001b[0m\u001b[0;34m)\u001b[0m\u001b[0;34m\u001b[0m\u001b[0m\n\u001b[1;32m     72\u001b[0m     \u001b[0mtype_true\u001b[0m \u001b[0;34m=\u001b[0m \u001b[0mtype_of_target\u001b[0m\u001b[0;34m(\u001b[0m\u001b[0my_true\u001b[0m\u001b[0;34m)\u001b[0m\u001b[0;34m\u001b[0m\u001b[0m\n\u001b[0;32m---> 73\u001b[0;31m     \u001b[0mtype_pred\u001b[0m \u001b[0;34m=\u001b[0m \u001b[0mtype_of_target\u001b[0m\u001b[0;34m(\u001b[0m\u001b[0my_pred\u001b[0m\u001b[0;34m)\u001b[0m\u001b[0;34m\u001b[0m\u001b[0m\n\u001b[0m\u001b[1;32m     74\u001b[0m \u001b[0;34m\u001b[0m\u001b[0m\n\u001b[1;32m     75\u001b[0m     \u001b[0my_type\u001b[0m \u001b[0;34m=\u001b[0m \u001b[0mset\u001b[0m\u001b[0;34m(\u001b[0m\u001b[0;34m[\u001b[0m\u001b[0mtype_true\u001b[0m\u001b[0;34m,\u001b[0m \u001b[0mtype_pred\u001b[0m\u001b[0;34m]\u001b[0m\u001b[0;34m)\u001b[0m\u001b[0;34m\u001b[0m\u001b[0m\n",
      "\u001b[0;32m~/anaconda3/lib/python3.7/site-packages/sklearn/utils/multiclass.py\u001b[0m in \u001b[0;36mtype_of_target\u001b[0;34m(y)\u001b[0m\n\u001b[1;32m    241\u001b[0m     \u001b[0;32mif\u001b[0m \u001b[0;32mnot\u001b[0m \u001b[0mvalid\u001b[0m\u001b[0;34m:\u001b[0m\u001b[0;34m\u001b[0m\u001b[0m\n\u001b[1;32m    242\u001b[0m         raise ValueError('Expected array-like (array or non-string sequence), '\n\u001b[0;32m--> 243\u001b[0;31m                          'got %r' % y)\n\u001b[0m\u001b[1;32m    244\u001b[0m \u001b[0;34m\u001b[0m\u001b[0m\n\u001b[1;32m    245\u001b[0m     \u001b[0msparseseries\u001b[0m \u001b[0;34m=\u001b[0m \u001b[0;34m(\u001b[0m\u001b[0my\u001b[0m\u001b[0;34m.\u001b[0m\u001b[0m__class__\u001b[0m\u001b[0;34m.\u001b[0m\u001b[0m__name__\u001b[0m \u001b[0;34m==\u001b[0m \u001b[0;34m'SparseSeries'\u001b[0m\u001b[0;34m)\u001b[0m\u001b[0;34m\u001b[0m\u001b[0m\n",
      "\u001b[0;31mValueError\u001b[0m: Expected array-like (array or non-string sequence), got None"
     ]
    }
   ],
   "source": [
    "def combine_predictions(predictions):\n",
    "    return #define !\n",
    "list_estimators = model.estimators_\n",
    "list_predictions = [estimator.predict(X_test) for estimator in list_estimators]\n",
    "new_predictions = combine_predictions(list_predictions)\n",
    "#measure f1 score\n",
    "f1_score(Y_test, new_predictions)"
   ]
  },
  {
   "cell_type": "markdown",
   "metadata": {},
   "source": [
    "#### k) Utilice la técnica de ensamblado para seleccionar características, para ésto defina un criterio para estimar la importancia de los distintos atributos en el ensamblado, impleméntelo sobre alguno de los ensambladores entrenados para resolver el problema definido en b). Realice un *ranking* de importancia de atributos y seleccione las $k$ características más relevantes."
   ]
  },
  {
   "cell_type": "code",
   "execution_count": 75,
   "metadata": {},
   "outputs": [
    {
     "name": "stdout",
     "output_type": "stream",
     "text": [
      "Los mejores 5 atributos son: \n",
      "\n",
      "['volatile acidity', 'chlorides', 'total sulfur dioxide', 'density', 'sulphates']\n"
     ]
    }
   ],
   "source": [
    "from sklearn.feature_selection import RFE\n",
    "from sklearn.ensemble import ExtraTreesClassifier\n",
    "\n",
    "columnas = list(df_train.columns.values)\n",
    "k = 5  # número de atributos a seleccionar\n",
    "modelo = ExtraTreesClassifier()\n",
    "era = RFE(modelo, k)\n",
    "era = era.fit(X_train, Y_train)\n",
    "atrib = era.support_\n",
    "atributos = [columnas[i] for i in list(atrib.nonzero()[0])]\n",
    "print(\"Los mejores 5 atributos son: \\n\")\n",
    "print(atributos)\n"
   ]
  },
  {
   "cell_type": "markdown",
   "metadata": {},
   "source": [
    "+ Se escojen los mejores 5 Parametros.\n",
    "1. volatile acidity \n",
    "2. chlorides\n",
    "3. total sulfur dioxide.\n",
    "4. density.\n",
    "5. sulphates.\n",
    "\n",
    "##### l) Entrene la máquina de aprendizaje definida en h) sobre las $k$ carecterísticas derivadas del punto anterior ¿Mejora los resultados sobre ésta máquina de aprendizaje?"
   ]
  },
  {
   "cell_type": "code",
   "execution_count": 76,
   "metadata": {},
   "outputs": [
    {
     "data": {
      "application/vnd.jupyter.widget-view+json": {
       "model_id": "2830c25350714ec9b9a9569fd162ea9c",
       "version_major": 2,
       "version_minor": 0
      },
      "text/plain": [
       "interactive(children=(IntSlider(value=0, description='param', max=6, min=-6), Output()), _dom_classes=('widget…"
      ]
     },
     "metadata": {},
     "output_type": "display_data"
    }
   ],
   "source": [
    "X_train = df_train.drop([\"quality\",\"alcohol\",\"fixed acidity\",\"citric acid\",\"pH\",\"Tipo\",\"residual sugar\",\"free sulfur dioxide\"],axis=1).values #Variable de entrada entrenamiento\n",
    "X_val = df_val.drop([\"quality\",\"alcohol\",\"fixed acidity\",\"citric acid\",\"pH\",\"Tipo\",\"residual sugar\",\"free sulfur dioxide\"],axis=1).values #Variable de entrada validacion\n",
    "X_test = df_test.drop([\"quality\",\"alcohol\",\"fixed acidity\",\"citric acid\",\"pH\",\"Tipo\",\"residual sugar\",\"free sulfur dioxide\"],axis=1).values #Variable de entrada test\n",
    "# SVM.\n",
    "def train_model(param):\n",
    "    model= SVM()\n",
    "    C = 10**(param)\n",
    "    print(\"Param C= \",C)\n",
    "    model.set_params(C=C,kernel='rbf')\n",
    "    model.fit(X_train,Y_train)\n",
    "    y_pred=model.predict(X_val)\n",
    "    print(\"f score\",f1_score(Y_val, y_pred,average='micro'))\n",
    "    return model\n",
    "p_min = -6 #define your range\n",
    "p_max = 6 #define your range\n",
    "\n",
    "interactive(visualize_border_interactive,param=(p_min,p_max))\n",
    "\n"
   ]
  },
  {
   "cell_type": "code",
   "execution_count": 77,
   "metadata": {},
   "outputs": [
    {
     "data": {
      "application/vnd.jupyter.widget-view+json": {
       "model_id": "c18ba89906e8425db8dea0d51e654a24",
       "version_major": 2,
       "version_minor": 0
      },
      "text/plain": [
       "interactive(children=(IntSlider(value=15, description='param', max=30), Output()), _dom_classes=('widget-inter…"
      ]
     },
     "metadata": {},
     "output_type": "display_data"
    }
   ],
   "source": [
    "def train_model(param):\n",
    "    k=param\n",
    "    print(\"Parametro K = \",k)\n",
    "    model = KNeighborsClassifier()  \n",
    "    model.set_params(n_neighbors=param)\n",
    "    model.fit(X_train,Y_train)\n",
    "    y_pred=model.predict(X_val)\n",
    "    print(\"f score\",f1_score(Y_val, y_pred,average='micro'))\n",
    "    return model\n",
    "\n",
    "p_min = 0 #define your range\n",
    "p_max = 30 #define your range\n",
    "interactive(visualize_border_interactive,param=(p_min,p_max))"
   ]
  },
  {
   "cell_type": "markdown",
   "metadata": {},
   "source": [
    "+ A pesar se solo trabajar con los 5 parametros más inflyentes tanto la SVM y K-NN no mejoran significativamente.\n",
    "\n",
    "En concluión en data frame utilizado para entrenar maquinas con el fin de lograr clasificar la calidad del vino carece de variables influyentes lo sufientemente buenas para lograr una confienza de al menos el 70%, además los mejores resultasdos se consiguieron ensamblando arboles de clasificación.\n"
   ]
  },
  {
   "cell_type": "markdown",
   "metadata": {},
   "source": [
    "<a id=\"segundo\"></a>\n",
    "## 2. Redes Convolucionales sobre imágenes\n",
    "---\n",
    "Las redes neuronales hoy en día han sido extendidas a numerosas aplicaciones gracias a la arquitectura definida para cada tipo de problema. Las redes neuronales que aplican la operación de convolución [[3]](#refs) o convoluciones en sus capas son concidas como *CNN* o *ConvNets*, lo cual se especializa en trabajar en datos con forma matricial (ya sea bi-dimensional o tri-dimensional), lo cual se adecúa perfectamente a imágenes (matrices), ya que gracias a su conectividad local se especializan en reconocer patrones sobre los datos de manera espacial, como refleja la siguiente imagen:\n",
    "\n",
    "<img src=\"https://cdn-images-1.medium.com/max/1600/1*N4h1SgwbWNmtrRhszM9EJg.png\" title=\"Title text\" width=\"90%\" />\n",
    "\n",
    "\n",
    "En esta actividad trabajará con un extracto bastante pequeño del dataset conocido como **101-Food**[[4]](#refs), el cual consta de mil imágenes pertenecientes a 3 clases (*Hambuger, Hot Dog* y *Pizza*) separados en conjunto de entrenamiento y validación.  \n",
    "El extracto pequeño del dataset con el que se trabajará deberá ser descargado del siguiente __[link](https://www.dropbox.com/s/56xqazmhbh0doi7/food_data.zip?dl=0)__ a través de Dropbox."
   ]
  },
  {
   "cell_type": "markdown",
   "metadata": {},
   "source": [
    "> a) Construya funciones para leer los datos y cargarlos al momento de entrenar (durante cada *epoch*), para ésto utilice *Image Data Generator* de keras."
   ]
  },
  {
   "cell_type": "code",
   "execution_count": 1,
   "metadata": {},
   "outputs": [
    {
     "name": "stderr",
     "output_type": "stream",
     "text": [
      "C:\\Users\\Jorge\\Anaconda3\\lib\\site-packages\\h5py\\__init__.py:36: FutureWarning: Conversion of the second argument of issubdtype from `float` to `np.floating` is deprecated. In future, it will be treated as `np.float64 == np.dtype(float).type`.\n",
      "  from ._conv import register_converters as _register_converters\n",
      "Using TensorFlow backend.\n"
     ]
    },
    {
     "ename": "FileNotFoundError",
     "evalue": "[WinError 3] El sistema no puede encontrar la ruta especificada: 'food_data/train'",
     "output_type": "error",
     "traceback": [
      "\u001b[1;31m---------------------------------------------------------------------------\u001b[0m",
      "\u001b[1;31mFileNotFoundError\u001b[0m                         Traceback (most recent call last)",
      "\u001b[1;32m<ipython-input-1-f16f47ecd620>\u001b[0m in \u001b[0;36m<module>\u001b[1;34m()\u001b[0m\n\u001b[0;32m     10\u001b[0m         \u001b[0mtarget_size\u001b[0m\u001b[1;33m=\u001b[0m\u001b[1;33m(\u001b[0m\u001b[1;36m150\u001b[0m\u001b[1;33m,\u001b[0m \u001b[1;36m150\u001b[0m\u001b[1;33m)\u001b[0m\u001b[1;33m,\u001b[0m\u001b[1;33m\u001b[0m\u001b[0m\n\u001b[0;32m     11\u001b[0m         \u001b[0mcolor_mode\u001b[0m\u001b[1;33m=\u001b[0m\u001b[1;34m'rgb'\u001b[0m\u001b[1;33m,\u001b[0m\u001b[1;33m\u001b[0m\u001b[0m\n\u001b[1;32m---> 12\u001b[1;33m         batch_size=32)\n\u001b[0m\u001b[0;32m     13\u001b[0m validation_generator = test_datagen.flow_from_directory(\n\u001b[0;32m     14\u001b[0m         \u001b[1;34m'food_data/val'\u001b[0m\u001b[1;33m,\u001b[0m\u001b[1;33m\u001b[0m\u001b[0m\n",
      "\u001b[1;32m~\\Anaconda3\\lib\\site-packages\\keras_preprocessing\\image.py\u001b[0m in \u001b[0;36mflow_from_directory\u001b[1;34m(self, directory, target_size, color_mode, classes, class_mode, batch_size, shuffle, seed, save_to_dir, save_prefix, save_format, follow_links, subset, interpolation)\u001b[0m\n\u001b[0;32m   1011\u001b[0m             \u001b[0mfollow_links\u001b[0m\u001b[1;33m=\u001b[0m\u001b[0mfollow_links\u001b[0m\u001b[1;33m,\u001b[0m\u001b[1;33m\u001b[0m\u001b[0m\n\u001b[0;32m   1012\u001b[0m             \u001b[0msubset\u001b[0m\u001b[1;33m=\u001b[0m\u001b[0msubset\u001b[0m\u001b[1;33m,\u001b[0m\u001b[1;33m\u001b[0m\u001b[0m\n\u001b[1;32m-> 1013\u001b[1;33m             interpolation=interpolation)\n\u001b[0m\u001b[0;32m   1014\u001b[0m \u001b[1;33m\u001b[0m\u001b[0m\n\u001b[0;32m   1015\u001b[0m     def flow_from_dataframe(self, dataframe, directory,\n",
      "\u001b[1;32m~\\Anaconda3\\lib\\site-packages\\keras_preprocessing\\image.py\u001b[0m in \u001b[0;36m__init__\u001b[1;34m(self, directory, image_data_generator, target_size, color_mode, classes, class_mode, batch_size, shuffle, seed, data_format, save_to_dir, save_prefix, save_format, follow_links, subset, interpolation, dtype)\u001b[0m\n\u001b[0;32m   1873\u001b[0m         \u001b[1;32mif\u001b[0m \u001b[1;32mnot\u001b[0m \u001b[0mclasses\u001b[0m\u001b[1;33m:\u001b[0m\u001b[1;33m\u001b[0m\u001b[0m\n\u001b[0;32m   1874\u001b[0m             \u001b[0mclasses\u001b[0m \u001b[1;33m=\u001b[0m \u001b[1;33m[\u001b[0m\u001b[1;33m]\u001b[0m\u001b[1;33m\u001b[0m\u001b[0m\n\u001b[1;32m-> 1875\u001b[1;33m             \u001b[1;32mfor\u001b[0m \u001b[0msubdir\u001b[0m \u001b[1;32min\u001b[0m \u001b[0msorted\u001b[0m\u001b[1;33m(\u001b[0m\u001b[0mos\u001b[0m\u001b[1;33m.\u001b[0m\u001b[0mlistdir\u001b[0m\u001b[1;33m(\u001b[0m\u001b[0mdirectory\u001b[0m\u001b[1;33m)\u001b[0m\u001b[1;33m)\u001b[0m\u001b[1;33m:\u001b[0m\u001b[1;33m\u001b[0m\u001b[0m\n\u001b[0m\u001b[0;32m   1876\u001b[0m                 \u001b[1;32mif\u001b[0m \u001b[0mos\u001b[0m\u001b[1;33m.\u001b[0m\u001b[0mpath\u001b[0m\u001b[1;33m.\u001b[0m\u001b[0misdir\u001b[0m\u001b[1;33m(\u001b[0m\u001b[0mos\u001b[0m\u001b[1;33m.\u001b[0m\u001b[0mpath\u001b[0m\u001b[1;33m.\u001b[0m\u001b[0mjoin\u001b[0m\u001b[1;33m(\u001b[0m\u001b[0mdirectory\u001b[0m\u001b[1;33m,\u001b[0m \u001b[0msubdir\u001b[0m\u001b[1;33m)\u001b[0m\u001b[1;33m)\u001b[0m\u001b[1;33m:\u001b[0m\u001b[1;33m\u001b[0m\u001b[0m\n\u001b[0;32m   1877\u001b[0m                     \u001b[0mclasses\u001b[0m\u001b[1;33m.\u001b[0m\u001b[0mappend\u001b[0m\u001b[1;33m(\u001b[0m\u001b[0msubdir\u001b[0m\u001b[1;33m)\u001b[0m\u001b[1;33m\u001b[0m\u001b[0m\n",
      "\u001b[1;31mFileNotFoundError\u001b[0m: [WinError 3] El sistema no puede encontrar la ruta especificada: 'food_data/train'"
     ]
    }
   ],
   "source": [
    "from keras.preprocessing.image import ImageDataGenerator\n",
    "train_datagen = ImageDataGenerator(\n",
    "        rescale=1./255,\n",
    "        shear_range=0.2,\n",
    "        zoom_range=0.2,\n",
    "        horizontal_flip=True)\n",
    "test_datagen = ImageDataGenerator(rescale=1./255) #no transformation\n",
    "train_generator = train_datagen.flow_from_directory(\n",
    "        'food_data/train',\n",
    "        target_size=(150, 150),\n",
    "        color_mode='rgb',\n",
    "        batch_size=32)\n",
    "validation_generator = test_datagen.flow_from_directory(\n",
    "        'food_data/val',\n",
    "        target_size=(150, 150),\n",
    "        color_mode='rgb',\n",
    "        batch_size=32)"
   ]
  },
  {
   "cell_type": "markdown",
   "metadata": {},
   "source": [
    "> b) Utilice la red tradicional (*Feed Forward*) entregada en el código para ser entrenada sobre los datos vectorizados, esto es que cada imagen queda representada como un vector gigante, y las 3 clases a las que se enfrenta. Evalúe el modelo con la métrica *accuracy* sobre el conjunto de validación."
   ]
  },
  {
   "cell_type": "code",
   "execution_count": 2,
   "metadata": {},
   "outputs": [
    {
     "ename": "NameError",
     "evalue": "name 'Sequential' is not defined",
     "output_type": "error",
     "traceback": [
      "\u001b[1;31m---------------------------------------------------------------------------\u001b[0m",
      "\u001b[1;31mNameError\u001b[0m                                 Traceback (most recent call last)",
      "\u001b[1;32m<ipython-input-2-fca0ac5797d4>\u001b[0m in \u001b[0;36m<module>\u001b[1;34m()\u001b[0m\n\u001b[1;32m----> 1\u001b[1;33m \u001b[0mmodel\u001b[0m \u001b[1;33m=\u001b[0m \u001b[0mSequential\u001b[0m\u001b[1;33m(\u001b[0m\u001b[1;33m)\u001b[0m\u001b[1;33m\u001b[0m\u001b[0m\n\u001b[0m\u001b[0;32m      2\u001b[0m \u001b[0mmodel\u001b[0m\u001b[1;33m.\u001b[0m\u001b[0madd\u001b[0m\u001b[1;33m(\u001b[0m\u001b[0mConv2D\u001b[0m\u001b[1;33m(\u001b[0m\u001b[1;36m32\u001b[0m\u001b[1;33m,\u001b[0m \u001b[1;33m(\u001b[0m\u001b[1;36m3\u001b[0m\u001b[1;33m,\u001b[0m \u001b[1;36m3\u001b[0m\u001b[1;33m)\u001b[0m\u001b[1;33m,\u001b[0m \u001b[0mpadding\u001b[0m\u001b[1;33m=\u001b[0m\u001b[1;34m'same'\u001b[0m\u001b[1;33m,\u001b[0m\u001b[0minput_shape\u001b[0m\u001b[1;33m=\u001b[0m\u001b[0mtrain_generator\u001b[0m\u001b[1;33m.\u001b[0m\u001b[0mimage_shape\u001b[0m\u001b[1;33m,\u001b[0m\u001b[0mactivation\u001b[0m\u001b[1;33m=\u001b[0m\u001b[1;34m'relu'\u001b[0m\u001b[1;33m)\u001b[0m\u001b[1;33m)\u001b[0m\u001b[1;33m\u001b[0m\u001b[0m\n\u001b[0;32m      3\u001b[0m \u001b[0mmodel\u001b[0m\u001b[1;33m.\u001b[0m\u001b[0madd\u001b[0m\u001b[1;33m(\u001b[0m\u001b[0mConv2D\u001b[0m\u001b[1;33m(\u001b[0m\u001b[1;36m32\u001b[0m\u001b[1;33m,\u001b[0m \u001b[1;33m(\u001b[0m\u001b[1;36m3\u001b[0m\u001b[1;33m,\u001b[0m \u001b[1;36m3\u001b[0m\u001b[1;33m)\u001b[0m\u001b[1;33m,\u001b[0m\u001b[0mactivation\u001b[0m\u001b[1;33m=\u001b[0m\u001b[1;34m'relu'\u001b[0m\u001b[1;33m)\u001b[0m\u001b[1;33m)\u001b[0m\u001b[1;33m\u001b[0m\u001b[0m\n\u001b[0;32m      4\u001b[0m \u001b[0mmodel\u001b[0m\u001b[1;33m.\u001b[0m\u001b[0madd\u001b[0m\u001b[1;33m(\u001b[0m\u001b[0mMaxPool2D\u001b[0m\u001b[1;33m(\u001b[0m\u001b[0mpool_size\u001b[0m\u001b[1;33m=\u001b[0m\u001b[1;33m(\u001b[0m\u001b[1;36m2\u001b[0m\u001b[1;33m,\u001b[0m \u001b[1;36m2\u001b[0m\u001b[1;33m)\u001b[0m\u001b[1;33m)\u001b[0m\u001b[1;33m)\u001b[0m\u001b[1;33m\u001b[0m\u001b[0m\n\u001b[0;32m      5\u001b[0m \u001b[0mmodel\u001b[0m\u001b[1;33m.\u001b[0m\u001b[0madd\u001b[0m\u001b[1;33m(\u001b[0m\u001b[0mDropout\u001b[0m\u001b[1;33m(\u001b[0m\u001b[1;36m0.25\u001b[0m\u001b[1;33m)\u001b[0m\u001b[1;33m)\u001b[0m\u001b[1;33m\u001b[0m\u001b[0m\n",
      "\u001b[1;31mNameError\u001b[0m: name 'Sequential' is not defined"
     ]
    }
   ],
   "source": [
    "from keras.models import Sequential\n",
    "from keras.layers import *\n",
    "model = Sequential()\n",
    "model.add(Flatten(input_shape=train_generator.image_shape)) #full dense\n",
    "model.add(BatchNormalization()) #to normalize the input..\n",
    "model.add(Dense(256,activation='relu'))\n",
    "model.add(Dropout(0.25))\n",
    "model.add(Dense(128,activation='relu')) #128\n",
    "model.add(Dropout(0.25))\n",
    "model.add(Dense(3,activation='softmax'))\n",
    "model.compile(loss='categorical_crossentropy', optimizer='rmsprop', metrics=['accuracy']) # Let's train the model using RMSprop\n",
    "model.summary()\n",
    "model.fit_generator(\n",
    "        train_generator,\n",
    "        steps_per_epoch=len(train_generator.classes)//train_generator.batch_size, #samples//batch_size\n",
    "        epochs=25,\n",
    "        validation_data=validation_generator,\n",
    "        validation_steps=len(validation_generator.classes)//validation_generator.batch_size)\n",
    "print(\"Accuracy validation: \",model.evaluate_generator(generator=validation_generator)[1])"
   ]
  },
  {
   "cell_type": "markdown",
   "metadata": {},
   "source": [
    "> c) Utilice la red convolucional (**CNN**) entregada en el código para ser entrenada sobre los datos brutos, matrices RGB de píxeles, y las 3 clases a las que se enfrenta. Evalúe el modelo con la métrica *accuracy* sobre el conjunto de validación. Compare."
   ]
  },
  {
   "cell_type": "code",
   "execution_count": null,
   "metadata": {},
   "outputs": [],
   "source": [
    "model = Sequential()\n",
    "model.add(Conv2D(32, (3, 3), padding='same',input_shape=train_generator.image_shape,activation='relu'))\n",
    "model.add(Conv2D(32, (3, 3),activation='relu'))\n",
    "model.add(MaxPool2D(pool_size=(2, 2)))\n",
    "model.add(Dropout(0.25))\n",
    "model.add(Conv2D(64, (3, 3), padding='same',activation='relu'))\n",
    "model.add(Conv2D(64, (3, 3),activation='relu'))\n",
    "model.add(MaxPool2D(pool_size=(2, 2)))\n",
    "model.add(Dropout(0.25))\n",
    "model.add(Flatten())\n",
    "model.add(Dense(128,activation='relu'))\n",
    "model.add(Dropout(0.5)) \n",
    "model.add(Dense(len(train_generator.class_indices),activation='softmax'))\n",
    "model.compile(loss='categorical_crossentropy', optimizer='rmsprop', metrics=['accuracy']) # Let's train the model using RMSprop\n",
    "model.summary()\n",
    "model.fit_generator(\n",
    "        train_generator,\n",
    "        steps_per_epoch=len(train_generator.classes)//train_generator.batch_size, #samples//batch_size\n",
    "        epochs=25,\n",
    "        validation_data=validation_generator,\n",
    "        validation_steps=len(validation_generator.classes)//validation_generator.batch_size)"
   ]
  },
  {
   "cell_type": "markdown",
   "metadata": {},
   "source": [
    "> d) Genere un conjunto datos con incorrecta etiquetación de manera manual y vea si el modelo convolucional se sigue comportando de la misma manera. Para esto tome 100 imágenes aleatorias de entrenamiento de la carpeta *hot dog* y 100 imágenes aleatorias de entrenamiento de la carpeta *hamburger* e intercambielas, sin manipular las imágenes de la carpeta *pizza* y con el conjunto de validación intacto. Genere las matrices de confusión en el conjunto de validación para visualizar cómo afectó al modelo la corrupción realizada a los datos."
   ]
  },
  {
   "cell_type": "code",
   "execution_count": null,
   "metadata": {},
   "outputs": [],
   "source": [
    "from sklearn.metrics import confusion_matrix \n",
    "Y_pred = model.predict_generator(validation_generator,len(validation_generator.classes)//validation_generator.batch_size+1)\n",
    "y_pred = np.argmax(Y_pred, axis=1)\n",
    "confusion_matrix = confusion_matrix(validation_generator.classes, y_pred)"
   ]
  }
 ],
 "metadata": {
  "kernelspec": {
   "display_name": "Python 3",
   "language": "python",
   "name": "python3"
  },
  "language_info": {
   "codemirror_mode": {
    "name": "ipython",
    "version": 3
   },
   "file_extension": ".py",
   "mimetype": "text/x-python",
   "name": "python",
   "nbconvert_exporter": "python",
   "pygments_lexer": "ipython3",
   "version": "3.7.0"
  }
 },
 "nbformat": 4,
 "nbformat_minor": 2
}
