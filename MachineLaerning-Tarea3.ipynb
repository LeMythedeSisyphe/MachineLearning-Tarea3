{
 "cells": [
  {
   "cell_type": "markdown",
   "metadata": {},
   "source": [
    "<img src=\"http://www.exalumnos.usm.cl/wp-content/uploads/2015/06/Isotipo-Negro.gif\" title=\"Title text\" width=\"20%\" height=\"20%\" />\n",
    "\n",
    "\n",
    "<hr style=\"height:2px;border:none\"/>\n",
    "<h1 align='center'> INF-393 Máquinas de Aprendizaje II-2018 </h1>\n",
    "\n",
    "<H3 align='center'> Tarea 3 - Ensamblados y modelos avanzados </H3>\n",
    "<hr style=\"height:2px;border:none\"/>\n",
    "\n",
    "**Temas**  \n",
    "* Técnicas de ensamblado: *bagging*, *boosting*, *random forest*.\n",
    "* Redes Neuronales Convolucionales vs *Feed Forward*\n",
    "* Aprendizaje no supervisado: *hidden models*\n",
    "* Aprendizaje sobre secuencias\n",
    "\n",
    "**Intengrantes**\n",
    "* César Quiroz Mansilla\n",
    "* Jorge Contreras Cabreras\n",
    " "
   ]
  },
  {
   "cell_type": "markdown",
   "metadata": {},
   "source": [
    "## 1. Calidad de un vino\n",
    "\n",
    "Existen muchas variedades de vino existentes debido a los distintos gustos que tienen las personas. Del gusto se desprende la calidad que una persona le podría asignar a un vino, el cual proviene del gusto de la persona en particular, o bien, a la gran cantidad de quı́micos y procesos que se aplican a la producción de vino. Para el área de negocios, el estimar cuál es la calidad de un vino en base a la apreciación del público es una tarea bastante difı́cil.  \n",
    "Para esta actividad se trabajará con dos *datasets* asociados a las variantes tinto y blanco del vino portugués\n",
    "”Vinho Verde”. Debido a temas privados solo se cuenta con las caracterı́stcas fisioquı́micas asociadas a un\n",
    "vino en particular, los cuales corresponden a 11 atributos numéricos descritos en el siguiente __[link](http://archive.ics.uci.edu/ml/machine-learning-databases/wine-quality/winequality.names)__.\n",
    "\n",
    "Este problema puede ser abordado como clasificación de 11 clases o de regresión, ya que el atributo a estimar,\n",
    "*quality*, tiene un dominio como valor entero 0 y 10. La forma de resolverlo será a través de **ensamblados**.\n",
    "\n",
    "<img src=\"https://uploads.toptal.io/blog/image/92064/toptal-blog-image-1454584112948-fc1d35939aa1886bf30c816b3ac20e21.jpg\" title=\"Title text\" width=\"20%\"  />\n",
    "\n",
    "\n",
    "#### a) Carge los dos dataset en un único dataframe de pandas, además de agregar una columna indicando si es vino tinto o blanco. Describa el dataset a trabajar.\n"
   ]
  },
  {
   "cell_type": "code",
   "execution_count": 19,
   "metadata": {},
   "outputs": [
    {
     "name": "stdout",
     "output_type": "stream",
     "text": [
      "Cantidad de Vinos Tintos 1599\n",
      "Cantidad de Vinos Blancos 4898\n",
      "Cantidad total de ejemplos 6497\n"
     ]
    },
    {
     "data": {
      "text/html": [
       "<div>\n",
       "<style scoped>\n",
       "    .dataframe tbody tr th:only-of-type {\n",
       "        vertical-align: middle;\n",
       "    }\n",
       "\n",
       "    .dataframe tbody tr th {\n",
       "        vertical-align: top;\n",
       "    }\n",
       "\n",
       "    .dataframe thead th {\n",
       "        text-align: right;\n",
       "    }\n",
       "</style>\n",
       "<table border=\"1\" class=\"dataframe\">\n",
       "  <thead>\n",
       "    <tr style=\"text-align: right;\">\n",
       "      <th></th>\n",
       "      <th>fixed acidity</th>\n",
       "      <th>volatile acidity</th>\n",
       "      <th>citric acid</th>\n",
       "      <th>residual sugar</th>\n",
       "      <th>chlorides</th>\n",
       "      <th>free sulfur dioxide</th>\n",
       "      <th>total sulfur dioxide</th>\n",
       "      <th>density</th>\n",
       "      <th>pH</th>\n",
       "      <th>sulphates</th>\n",
       "      <th>alcohol</th>\n",
       "      <th>quality</th>\n",
       "      <th>Tipo</th>\n",
       "    </tr>\n",
       "  </thead>\n",
       "  <tbody>\n",
       "    <tr>\n",
       "      <th>0</th>\n",
       "      <td>7.4</td>\n",
       "      <td>0.70</td>\n",
       "      <td>0.00</td>\n",
       "      <td>1.9</td>\n",
       "      <td>0.076</td>\n",
       "      <td>11.0</td>\n",
       "      <td>34.0</td>\n",
       "      <td>0.9978</td>\n",
       "      <td>3.51</td>\n",
       "      <td>0.56</td>\n",
       "      <td>9.4</td>\n",
       "      <td>5</td>\n",
       "      <td>1</td>\n",
       "    </tr>\n",
       "    <tr>\n",
       "      <th>1</th>\n",
       "      <td>7.8</td>\n",
       "      <td>0.88</td>\n",
       "      <td>0.00</td>\n",
       "      <td>2.6</td>\n",
       "      <td>0.098</td>\n",
       "      <td>25.0</td>\n",
       "      <td>67.0</td>\n",
       "      <td>0.9968</td>\n",
       "      <td>3.20</td>\n",
       "      <td>0.68</td>\n",
       "      <td>9.8</td>\n",
       "      <td>5</td>\n",
       "      <td>1</td>\n",
       "    </tr>\n",
       "    <tr>\n",
       "      <th>2</th>\n",
       "      <td>7.8</td>\n",
       "      <td>0.76</td>\n",
       "      <td>0.04</td>\n",
       "      <td>2.3</td>\n",
       "      <td>0.092</td>\n",
       "      <td>15.0</td>\n",
       "      <td>54.0</td>\n",
       "      <td>0.9970</td>\n",
       "      <td>3.26</td>\n",
       "      <td>0.65</td>\n",
       "      <td>9.8</td>\n",
       "      <td>5</td>\n",
       "      <td>1</td>\n",
       "    </tr>\n",
       "    <tr>\n",
       "      <th>3</th>\n",
       "      <td>11.2</td>\n",
       "      <td>0.28</td>\n",
       "      <td>0.56</td>\n",
       "      <td>1.9</td>\n",
       "      <td>0.075</td>\n",
       "      <td>17.0</td>\n",
       "      <td>60.0</td>\n",
       "      <td>0.9980</td>\n",
       "      <td>3.16</td>\n",
       "      <td>0.58</td>\n",
       "      <td>9.8</td>\n",
       "      <td>6</td>\n",
       "      <td>1</td>\n",
       "    </tr>\n",
       "    <tr>\n",
       "      <th>4</th>\n",
       "      <td>7.4</td>\n",
       "      <td>0.70</td>\n",
       "      <td>0.00</td>\n",
       "      <td>1.9</td>\n",
       "      <td>0.076</td>\n",
       "      <td>11.0</td>\n",
       "      <td>34.0</td>\n",
       "      <td>0.9978</td>\n",
       "      <td>3.51</td>\n",
       "      <td>0.56</td>\n",
       "      <td>9.4</td>\n",
       "      <td>5</td>\n",
       "      <td>1</td>\n",
       "    </tr>\n",
       "  </tbody>\n",
       "</table>\n",
       "</div>"
      ],
      "text/plain": [
       "   fixed acidity  volatile acidity  citric acid  residual sugar  chlorides  \\\n",
       "0            7.4              0.70         0.00             1.9      0.076   \n",
       "1            7.8              0.88         0.00             2.6      0.098   \n",
       "2            7.8              0.76         0.04             2.3      0.092   \n",
       "3           11.2              0.28         0.56             1.9      0.075   \n",
       "4            7.4              0.70         0.00             1.9      0.076   \n",
       "\n",
       "   free sulfur dioxide  total sulfur dioxide  density    pH  sulphates  \\\n",
       "0                 11.0                  34.0   0.9978  3.51       0.56   \n",
       "1                 25.0                  67.0   0.9968  3.20       0.68   \n",
       "2                 15.0                  54.0   0.9970  3.26       0.65   \n",
       "3                 17.0                  60.0   0.9980  3.16       0.58   \n",
       "4                 11.0                  34.0   0.9978  3.51       0.56   \n",
       "\n",
       "   alcohol  quality  Tipo  \n",
       "0      9.4        5     1  \n",
       "1      9.8        5     1  \n",
       "2      9.8        5     1  \n",
       "3      9.8        6     1  \n",
       "4      9.4        5     1  "
      ]
     },
     "execution_count": 19,
     "metadata": {},
     "output_type": "execute_result"
    }
   ],
   "source": [
    "import pandas as pd\n",
    "df_red = pd.read_csv(\"winequality-red.csv\",sep=\";\") #Vinos tintos\n",
    "print(\"Cantidad de Vinos Tintos\",len(df_red))\n",
    "df_red.loc[:,'Tipo'] = 1\n",
    "df_white = pd.read_csv(\"winequality-white.csv\",sep=\";\") #Vinos blanco\n",
    "print(\"Cantidad de Vinos Blancos\",len(df_white))\n",
    "df_white.loc[:,'Tipo'] = 2\n",
    "df = pd.concat([df_red,df_white], axis=0)\n",
    "print(\"Cantidad total de ejemplos\", len(df))\n",
    "df.head()"
   ]
  },
  {
   "cell_type": "markdown",
   "metadata": {},
   "source": [
    "Variables de entrada (basadas en pruebas fisicoquímicas):\n",
    "\n",
    "1. acidez fija \n",
    "2. acidez volátil \n",
    "3. ácido cítrico \n",
    "4. azúcar residual \n",
    "5. cloruros \n",
    "6. dióxido de azufre libre \n",
    "7. dióxido de azufre total \n",
    "8. densidad \n",
    "9. pH \n",
    "10. sulfatos \n",
    "11. alcohol \n",
    "12. Tipo\n",
    "\n",
    "Variable de salida (basada en datos sensoriales): \n",
    "13. calidad (puntuación entre 0 y 10)\n",
    "\n",
    "#### b) Aborde este problema como si fuera de clasificación con multiples clases para predecir el valor de calidad de un vino, es decir, utilice las distintas caracterı́sticas fisioquı́micas presentes en los datos para estimar la etiqueta ¿Cuántas clases son y cuántos ejemplos hay por clase? ¿Qué sucede con predecir si un vino tiene calidad mínima (0) o máxima(10)? Además para el propósito académico de esta actividad cree un conjunto de pruebas (20%)  para evaluar la generalización final del modelo y otro de validación (20%) si estima conveniente. "
   ]
  },
  {
   "cell_type": "code",
   "execution_count": 20,
   "metadata": {},
   "outputs": [
    {
     "name": "stdout",
     "output_type": "stream",
     "text": [
      "valores de variable calidad \n",
      " 6    2836\n",
      "5    2138\n",
      "7    1079\n",
      "4     216\n",
      "8     193\n",
      "3      30\n",
      "9       5\n",
      "Name: quality, dtype: int64\n",
      "Cantidad ejemplos conjunto entrenamiento:  3897\n",
      "Cantidad ejemplos conjunto validación:  1300\n",
      "Cantidad ejemplos conjunto pruebas:  1300\n"
     ]
    }
   ],
   "source": [
    "print(\"valores de variable calidad \\n\", df.quality.value_counts())\n",
    "df = df.sample(frac=1,random_state=44) #Desordena los datos\n",
    "#Conjunto de entrenamiento y validacion 1300 ejemplos cada uno (20%)\n",
    "df_train = df.iloc[:-2600]  #todo el conjunto menos los ultimos 2600\n",
    "print(\"Cantidad ejemplos conjunto entrenamiento: \",len(df_train))\n",
    "df = df.iloc[-2600:]    #ultimos 2600 valores del conjunto\n",
    "df_test = df.iloc[:-1300] #todo el conjunto menos los ultimos 1300\n",
    "df_val = df.iloc[-1300:]  #ultimos 1300 valores del conjunto\n",
    "print(\"Cantidad ejemplos conjunto validación: \",len(df_val))\n",
    "print(\"Cantidad ejemplos conjunto pruebas: \",len(df_test))"
   ]
  },
  {
   "cell_type": "code",
   "execution_count": 21,
   "metadata": {},
   "outputs": [
    {
     "data": {
      "image/png": "[encoded data removed]",
      "text/plain": [
       "<Figure size 432x288 with 1 Axes>"
      ]
     },
     "metadata": {},
     "output_type": "display_data"
    },
    {
     "data": {
      "image/png": "[encoded data removed]",
      "text/plain": [
       "<Figure size 432x288 with 1 Axes>"
      ]
     },
     "metadata": {},
     "output_type": "display_data"
    },
    {
     "data": {
      "image/png": "[encoded data removed]",
      "text/plain": [
       "<Figure size 432x288 with 1 Axes>"
      ]
     },
     "metadata": {},
     "output_type": "display_data"
    }
   ],
   "source": [
    "#Verificar si la cantidad de vinos esta bien distribuida.\n",
    "import matplotlib.pyplot as plt\n",
    "import numpy as np\n",
    "import warnings\n",
    "import matplotlib.cbook\n",
    "warnings.filterwarnings(\"ignore\",category=matplotlib.cbook.mplDeprecation)\n",
    "#Conjunro entretamiento\n",
    "eje_x=[\"Tinto\",\"Blanco\"]\n",
    "X = np.arange(2)\n",
    "plt.bar(X,df_train.Tipo.value_counts(), align='center',color=[\"r\",\"b\"])\n",
    "ax =plt.axes()\n",
    "ax.set_xticks(X)\n",
    "ax.set_xticklabels(eje_x)\n",
    "plt.title(\"Tipos de vino conjunto entrenamiento\") #titulo\n",
    "plt.xlabel('vinos') #Nombre eje x\n",
    "plt.ylabel('Cantidad') #Nombre eje y\n",
    "plt.show()\n",
    "#Conjunto prueba\n",
    "plt.bar(X,df_test.Tipo.value_counts(), align='center',color=[\"r\",\"b\"])\n",
    "ax =plt.axes()\n",
    "ax.set_xticks(X)\n",
    "ax.set_xticklabels(eje_x)\n",
    "plt.title(\"Tipos de vino conjunto prueba\") #titulo\n",
    "plt.xlabel('vinos') #Nombre eje x\n",
    "plt.ylabel('Cantidad') #Nombre eje y\n",
    "plt.show()\n",
    "#Conjunto de validación\n",
    "plt.bar(X,df_val.Tipo.value_counts(), align='center',color=[\"r\",\"b\"])\n",
    "ax =plt.axes()\n",
    "ax.set_xticks(X)\n",
    "ax.set_xticklabels(eje_x)\n",
    "plt.title(\"Tipos de vino conjunto Validación\") #titulo\n",
    "plt.xlabel('vinos') #Nombre eje x\n",
    "plt.ylabel('Cantidad') #Nombre eje y\n",
    "plt.show()"
   ]
  },
  {
   "cell_type": "code",
   "execution_count": 22,
   "metadata": {},
   "outputs": [],
   "source": [
    "#Creacion conjuntos\n",
    "Y_train = df_train['quality'].values  #Variable de salida entrenamiento\n",
    "Y_val = df_val['quality'].values  #Variable de salida validacion\n",
    "Y_test = df_test['quality'].values  #Variable de salida test\n",
    "X_train = df_train.drop([\"quality\"],axis=1).values #Variable de entrada entrenamiento\n",
    "X_val = df_val.drop([\"quality\"],axis=1).values #Variable de entrada validacion\n",
    "X_test = df_test.drop([\"quality\"],axis=1).values #Variable de entrada test"
   ]
  },
  {
   "cell_type": "markdown",
   "metadata": {},
   "source": [
    "#### c) Entrene un solo Árbol de Clasificación de múltiples niveles para resolver el problema. Defina un Árbol **no regularizado** (como el que no tiene límites en su profundidad) y otro Árbol **regularizado** (variando los hiper-parámetros que prefiera, por ejemplo, los más comunes como la profundidad, el número mínimo de datos para realizar *split* o el número mínimo de datos en cada hoja), recuerde que las **decisiones** no pueden ser basadas mirando el conjunto de pruebas. Debido al desbalanceo que se produce en las clases mida la métrica F1-score [[2]](#refs) sobre el conjunto de entrenamiento y de pruebas."
   ]
  },
  {
   "cell_type": "code",
   "execution_count": 23,
   "metadata": {},
   "outputs": [
    {
     "name": "stdout",
     "output_type": "stream",
     "text": [
      "Resultados arbol no regularizado\n",
      "f score Validation 0.5707692307692308\n",
      "f score train 1.0\n",
      "Resultados arbol regularizado modificando la profundidad\n"
     ]
    },
    {
     "data": {
      "application/vnd.jupyter.widget-view+json": {
       "model_id": "2d15edbaf272428591e5341297a09316",
       "version_major": 2,
       "version_minor": 0
      },
      "text/plain": [
       "interactive(children=(IntSlider(value=18, description='param', max=35, min=1), Output()), _dom_classes=('widge…"
      ]
     },
     "metadata": {},
     "output_type": "display_data"
    }
   ],
   "source": [
    "from ipywidgets import interactive\n",
    "from sklearn.tree import DecisionTreeClassifier as Tree\n",
    "from sklearn.metrics import f1_score\n",
    "\n",
    "#Arbol no regularizado\n",
    "print(\"Resultados arbol no regularizado\")\n",
    "model= Tree()\n",
    "model.set_params(criterion='gini',splitter='best')\n",
    "model.fit(X_train,Y_train)\n",
    "y_pred=model.predict(X_val)\n",
    "print(\"f score Validation\",f1_score(Y_val, y_pred,average='micro'))\n",
    "y_pred=model.predict(X_train)\n",
    "print(\"f score train\",f1_score(Y_train, y_pred,average='micro'))\n",
    "\n",
    "#Arbol regularizado\n",
    "print(\"Resultados arbol regularizado modificando la profundidad\")\n",
    "def visualize_border_interactive(param):\n",
    "    model = train_model(param)\n",
    "\n",
    "def train_model(param):\n",
    "    model= Tree()\n",
    "    model.set_params(max_depth=param,criterion='gini',splitter='best')\n",
    "    model.fit(X_train,Y_train)\n",
    "    y_pred=model.predict(X_val)\n",
    "    print(\"f score Validation\",f1_score(Y_val, y_pred,average='micro'))\n",
    "    y_pred=model.predict(X_train)\n",
    "    print(\"f score train\",f1_score(Y_train, y_pred,average='micro'))\n",
    "    return model\n",
    "\n",
    "#Profundidad\n",
    "p_min = 1\n",
    "p_max = 35 \n",
    "interactive(visualize_border_interactive,param=(p_min,p_max))"
   ]
  },
  {
   "cell_type": "code",
   "execution_count": 24,
   "metadata": {},
   "outputs": [
    {
     "data": {
      "image/png": "[encoded data removed]",
      "text/plain": [
       "<Figure size 432x288 with 1 Axes>"
      ]
     },
     "metadata": {},
     "output_type": "display_data"
    }
   ],
   "source": [
    "# Grafico de ajuste del árbol regularizado\n",
    "train_prec =  []\n",
    "eval_prec = []\n",
    "max_deep_list = list(range(1, 27))\n",
    "\n",
    "for deep in max_deep_list:\n",
    "    model= Tree()\n",
    "    model.set_params(max_depth=deep,criterion='gini',splitter='best') #se probo con entropy y se llego a lo mismo\n",
    "    model.fit(X_train,Y_train)\n",
    "    train_prec.append(model.score(X_train,Y_train))\n",
    "    eval_prec.append(model.score(X_val,Y_val))\n",
    "\n",
    "# graficar los resultados.\n",
    "plt.plot(max_deep_list, train_prec, color='r', label='Entrenamiento')\n",
    "plt.plot(max_deep_list, eval_prec, color='b', label='Validacion')\n",
    "plt.title('Grafico de ajuste arbol de decision')\n",
    "plt.legend()\n",
    "plt.ylabel('precision')\n",
    "plt.xlabel('profundidad')\n",
    "plt.show()"
   ]
  },
  {
   "cell_type": "markdown",
   "metadata": {},
   "source": [
    "+ Calcule la puntuación F1, también conocida como puntuación F equilibrada o medida F\n",
    "+ El puntaje de F1 se puede interpretar como un promedio ponderado de la precisión y el recuerdo, donde un puntaje de F1 alcanza su mejor valor con 1 y el peor puntaje con 0. La contribución relativa de la precisión y el recuerdo al puntaje de F1 son iguales. La fórmula para el puntaje de F1 es:\n",
    "+ En el caso de clases múltiples y etiquetas múltiples, este es el promedio de la puntuación de F1 de cada clase con ponderación según el average parámetro.\n",
    "+ Valores que se le puede dar a average:\n",
    "+ El árbol no regularizado alcanza una confianza del 60%  mientras que el regularizado con profundidad 10 alcanza una confianza del 55% pero produce mucho menor overfiting.\n",
    "\n",
    "'binary': Solo informe los resultados para la clase especificada por pos_label. Esto es aplicable solo si los objetivos ( y_{true,pred}) son binarios.\n",
    "\n",
    "'micro': Calcule las métricas globalmente contando el total de verdaderos positivos, falsos negativos y falsos positivos.\n",
    "\n",
    "'macro': Calcule las métricas para cada etiqueta y encuentre su media no ponderada. Esto no tiene en cuenta el desequilibrio de la etiqueta.\n",
    "\n",
    "'weighted': Calcule las métricas para cada etiqueta y encuentre su ponderación promedio por soporte (el número de instancias reales para cada etiqueta). Esto altera 'macro' para tener en cuenta el desequilibrio de la etiqueta; puede dar lugar a una puntuación F que no se encuentra entre la precisión y la recuperación.\n",
    "\n",
    "'samples': Calcule las métricas para cada instancia y encuentre su promedio (solo significativo para la clasificación de varias capas en la que difiere accuracy_score).\n",
    "\n",
    "#### d) Entrene un ensamblado de árboles de múltiples niveles, mediante la técnica de **Bagging**, compare el Árbol **no regularizado** con el **regularizado** (*seteando los hiper-parámetros en base a lo experimentado anteriormente en c)*) ¿Qué debería suceder? ¿Se visualiza *overfitting*? Varíe la cantidad de árboles de decisión utilizados en el ensamblado (*n estimators*), realice un gráfico resumen del F1-score de entrenamiento y de pruebas en función de este hiper-parámetro."
   ]
  },
  {
   "cell_type": "code",
   "execution_count": 25,
   "metadata": {},
   "outputs": [
    {
     "name": "stderr",
     "output_type": "stream",
     "text": [
      "C:\\Users\\Jorge\\Anaconda3\\lib\\site-packages\\ipykernel_launcher.py:1: DeprecationWarning: numpy.core.umath_tests is an internal NumPy module and should not be imported. It will be removed in a future NumPy release.\n",
      "  \"\"\"Entry point for launching an IPython kernel.\n"
     ]
    },
    {
     "name": "stdout",
     "output_type": "stream",
     "text": [
      "Arbol no regularizado\n",
      "f score Validation 0.6538461538461539\n",
      "f score train 1.0\n",
      "Arbol regularizado\n",
      "f score Validation 0.6123076923076923\n",
      "f score train 0.8604054400821144\n"
     ]
    }
   ],
   "source": [
    "from numpy.core.umath_tests import inner1d\n",
    "from sklearn.ensemble import BaggingClassifier\n",
    "\n",
    "print(\"Arbol no regularizado\")\n",
    "model = BaggingClassifier(base_estimator=Tree(max_depth=None), n_estimators=100, n_jobs=-1)\n",
    "model.fit(X_train,Y_train)\n",
    "y_pred=model.predict(X_val)\n",
    "print(\"f score Validation\",f1_score(Y_val, y_pred,average='micro'))\n",
    "y_pred=model.predict(X_train)\n",
    "print(\"f score train\",f1_score(Y_train, y_pred,average='micro'))\n",
    "\n",
    "print(\"Arbol regularizado\")\n",
    "model = BaggingClassifier(base_estimator=Tree(max_depth=10), n_estimators=100, n_jobs=-1)\n",
    "model.fit(X_train,Y_train)\n",
    "y_pred=model.predict(X_val)\n",
    "print(\"f score Validation\",f1_score(Y_val, y_pred,average='micro'))\n",
    "y_pred=model.predict(X_train)\n",
    "print(\"f score train\",f1_score(Y_train, y_pred,average='micro'))"
   ]
  },
  {
   "cell_type": "markdown",
   "metadata": {},
   "source": [
    "+ SE entreno con 100 estimadores y en el caso del arbol regularizado se uso profundidad 10\n",
    "+ Se concluye que Bagging consigue mejores resultados con un arbol no regularizado.\n",
    "+ La confianza del Baggling en el arbol no regularizado para el conjunto de validación es 65% vs tan solo un 62% del arbol regularizado.\n",
    "\n",
    "#### e) Entrene un ensamblado de árboles de múltiples niveles, mediante la técnica de **AdaBoost**, compare el Árbol **no regularizado** con el **regularizado** (*seteando los hiper-parámetros en base a lo experimentado anteriormente en c)* ¿Se visualiza *overfitting*? ¿Qué técnica se utiliza, *re-muestrear* o *pesar* ejemplos? ¿Qué le parece más sensato?. Varíe la cantidad de árboles de decisión utilizados en el ensamblado (*n estimators*), realice un gráfico resumen del F1-score de entrenamiento y de pruebas en función de este hiper-parámetro. Compare y analice con la técnica utilizada en d)."
   ]
  },
  {
   "cell_type": "code",
   "execution_count": 26,
   "metadata": {},
   "outputs": [
    {
     "name": "stdout",
     "output_type": "stream",
     "text": [
      "Arbol no regularizado\n",
      "f score Validation 0.58\n",
      "f score train 1.0\n",
      "Arbol regularizado\n",
      "f score Validation 0.6492307692307693\n",
      "f score train 0.9997433923530922\n"
     ]
    }
   ],
   "source": [
    "from sklearn.ensemble import AdaBoostClassifier\n",
    "print(\"Arbol no regularizado\")\n",
    "model = AdaBoostClassifier(base_estimator=Tree(max_depth=None), n_estimators=100)\n",
    "model.fit(X_train,Y_train)\n",
    "y_pred=model.predict(X_val)\n",
    "print(\"f score Validation\",f1_score(Y_val, y_pred,average='micro'))\n",
    "y_pred=model.predict(X_train)\n",
    "print(\"f score train\",f1_score(Y_train, y_pred,average='micro'))\n",
    "print(\"Arbol regularizado\")\n",
    "model = AdaBoostClassifier(base_estimator=Tree(max_depth=10), n_estimators=100)\n",
    "model.fit(X_train,Y_train)\n",
    "y_pred=model.predict(X_val)\n",
    "print(\"f score Validation\",f1_score(Y_val, y_pred,average='micro'))\n",
    "y_pred=model.predict(X_train)\n",
    "print(\"f score train\",f1_score(Y_train, y_pred,average='micro'))"
   ]
  },
  {
   "cell_type": "markdown",
   "metadata": {},
   "source": [
    "+ Se consiguieron mejores resultados con el arbol regularizado con un 66% de confianza.\n",
    "+ Por lo tanto entrenar un AdaBoost con un arbol regularizado es mejor.\n",
    "\n",
    "#### f) Pruebe otra técnica de ensamblado dedicada a árboles de decisión, que combina el muestreo *boostrap* de *Bagging* con muestreo sobre las *features*: **Random Forest**, compare el Árbol **no regularizado** con el **regularizado** ¿Se visualiza *overfitting*?. Varíe la cantidad de árboles de decisión utilizados en el ensamblado (*n estimators*), realice un gráfico resumen el F1-score de entrenamiento y de pruebas en función de este hiper-parámetro."
   ]
  },
  {
   "cell_type": "code",
   "execution_count": 27,
   "metadata": {},
   "outputs": [
    {
     "name": "stdout",
     "output_type": "stream",
     "text": [
      "Arbol no regularizado\n",
      "f score Validation 0.666923076923077\n",
      "f score train 1.0\n",
      "Arbol regularizado\n",
      "f score Validation 0.6230769230769231\n",
      "f score train 0.842442904798563\n"
     ]
    }
   ],
   "source": [
    "from sklearn.ensemble import RandomForestClassifier\n",
    "print(\"Arbol no regularizado\")\n",
    "model = RandomForestClassifier(n_estimators=100, max_depth=None,n_jobs=-1,oob_score = True)\n",
    "model.fit(X_train,Y_train)\n",
    "y_pred=model.predict(X_val)\n",
    "print(\"f score Validation\",f1_score(Y_val, y_pred,average='micro'))\n",
    "y_pred=model.predict(X_train)\n",
    "print(\"f score train\",f1_score(Y_train, y_pred,average='micro'))\n",
    "\n",
    "print(\"Arbol regularizado\")\n",
    "model = RandomForestClassifier(n_estimators=100, max_depth=10,n_jobs=-1,oob_score = True)\n",
    "model.fit(X_train,Y_train)\n",
    "y_pred=model.predict(X_val)\n",
    "print(\"f score Validation\",f1_score(Y_val, y_pred,average='micro'))\n",
    "y_pred=model.predict(X_train)\n",
    "print(\"f score train\",f1_score(Y_train, y_pred,average='micro'))"
   ]
  },
  {
   "cell_type": "markdown",
   "metadata": {},
   "source": [
    "+ Se consiguen resultados muy similares a Baggling pero esta vez en el arbol regularizado se reduce bastante en overfiting lo cual es muy importante a la hora de escojer un modelo.\n",
    "\n",
    "#### g) Verifique que el **OOB error** (*out of bag error*) de los ensambladores que utilizan la técnica *boostrap* puede ser una alternativa como métrica de generalización, compárelo con el error calculado sobre el conjunto de pruebas y validación (o en su defecto *cross validation*)."
   ]
  },
  {
   "cell_type": "code",
   "execution_count": 28,
   "metadata": {},
   "outputs": [
    {
     "name": "stdout",
     "output_type": "stream",
     "text": [
      "OOB error:  0.38414164742109314\n",
      "Val error:  0.3769230769230769\n",
      "Test error:  0.38538461538461544\n",
      "Train error:  0.15755709520143701\n"
     ]
    }
   ],
   "source": [
    "oob_error = 1 - model.oob_score_\n",
    "test_error = 1- model.score(X_test,Y_test)\n",
    "val_error = 1- model.score(X_val,Y_val)\n",
    "train_error = 1- model.score(X_train,Y_train)\n",
    "print(\"OOB error: \",oob_error)\n",
    "print (\"Val error: \",val_error)\n",
    "print(\"Test error: \",test_error)\n",
    "print(\"Train error: \",train_error)"
   ]
  },
  {
   "cell_type": "markdown",
   "metadata": {},
   "source": [
    "+ OBB Consigue un error muy similar a los obtenidos en el conjunto de test y validación.\n",
    "\n",
    "#### h) Entrene alguna otra máquina de aprendizaje, elegida por usted de entre todas las vistas en el curso, para resolver el problema. Elija los hiper-parámetros que estime convenientes intentando aumentar el *F1-scor*e obtenido por los algoritmos anteriores ¿Se logra una mejora? ¿Por qué?"
   ]
  },
  {
   "cell_type": "code",
   "execution_count": 29,
   "metadata": {},
   "outputs": [
    {
     "data": {
      "application/vnd.jupyter.widget-view+json": {
       "model_id": "e1314fa08b144410802fb59610cadc31",
       "version_major": 2,
       "version_minor": 0
      },
      "text/plain": [
       "interactive(children=(IntSlider(value=15, description='param', max=30), Output()), _dom_classes=('widget-inter…"
      ]
     },
     "metadata": {},
     "output_type": "display_data"
    }
   ],
   "source": [
    "from sklearn.neighbors import KNeighborsClassifier\n",
    "def train_model(param):\n",
    "    k=param\n",
    "    print(\"Parametro K = \",k)\n",
    "    model = KNeighborsClassifier()  \n",
    "    model.set_params(n_neighbors=param)\n",
    "    model.fit(X_train,Y_train)\n",
    "    y_pred=model.predict(X_val)\n",
    "    print(\"f score\",f1_score(Y_val, y_pred,average='micro'))\n",
    "    return model\n",
    "\n",
    "p_min = 0 #define your range\n",
    "p_max = 30 #define your range\n",
    "interactive(visualize_border_interactive,param=(p_min,p_max))"
   ]
  },
  {
   "cell_type": "markdown",
   "metadata": {},
   "source": [
    "+ Se Utilizo K-nn con resultados de solo el 50% de accuaracy"
   ]
  },
  {
   "cell_type": "code",
   "execution_count": 30,
   "metadata": {},
   "outputs": [
    {
     "data": {
      "application/vnd.jupyter.widget-view+json": {
       "model_id": "f9bf7ca506744e65b55144838672000a",
       "version_major": 2,
       "version_minor": 0
      },
      "text/plain": [
       "interactive(children=(IntSlider(value=0, description='param', max=6, min=-6), Output()), _dom_classes=('widget…"
      ]
     },
     "metadata": {},
     "output_type": "display_data"
    }
   ],
   "source": [
    "from sklearn.svm import SVC as SVM #SVC is for classification\n",
    "def train_model(param):\n",
    "    model= SVM()\n",
    "    C = 10**(param)\n",
    "    print(\"Param C= \",C)\n",
    "    model.set_params(C=C,kernel='rbf')\n",
    "    model.fit(X_train,Y_train)\n",
    "    y_pred=model.predict(X_val)\n",
    "    print(\"f score\",f1_score(Y_val, y_pred,average='micro'))\n",
    "    return model\n",
    "p_min = -6 #define your range\n",
    "p_max = 6 #define your range\n",
    "\n",
    "interactive(visualize_border_interactive,param=(p_min,p_max))"
   ]
  },
  {
   "cell_type": "markdown",
   "metadata": {},
   "source": [
    "+ Se entreno una CVM con resultados solo de un 50%  de accuaracy\n",
    "#### i) Compare y analice las distintas maneras con las que se resolvió el problema definido en b), por ejemplo incluya las decisiones que conlleva y los resultados que reflejan.\n",
    "\n",
    "\n",
    "+ Primero se agrego la fila tipo, donde 1 corresponde si es tinto y 0 cuando es blanco.\n",
    "+ Se elimina la columna alcohol.\n",
    "+ se entreno un arbol de desicion regularisado donde se escoje que la profundidad 9 es la mejor.\n",
    "+ Se entreno en ensamblado de arboles de decisión con 100 arboles con una confianza del 60%.\n",
    "+ Se entreno un adaboots con una confienza del 63% pero presenta mucho overfiting.\n",
    "+ Se entrena un random Forest con una confianza del 60% pero presenta el menor overfiting\n",
    "+ Se entreno un K-nn.\n",
    "+ Se entreno un SVM.\n",
    "+ Tanto k-nn y SVM no lograron superar el 50% de confianza\n",
    "\n",
    "Finalmente se conseguieron los mejores resultados respecto al conjunto de pruebas con adaboots y random forest con una confianza del 63% y 60%"
   ]
  },
  {
   "cell_type": "markdown",
   "metadata": {},
   "source": [
    "#### j) Defina otra forma de combinar los valores que entregan los ensamblados al hacer predicciones y compare con lo que se hace actualmente, por ejemplo *Bagging* realiza el voto de la mayoría para clasificación y promedio para regresión, *AdaBoost* realiza una combinación ponderada de cada clasificador dependiendo de su *habilidad* (desempeño para clasificar el conjunto de entrenamiento)."
   ]
  },
  {
   "cell_type": "code",
   "execution_count": 31,
   "metadata": {},
   "outputs": [
    {
     "ename": "ValueError",
     "evalue": "Expected array-like (array or non-string sequence), got None",
     "output_type": "error",
     "traceback": [
      "\u001b[1;31m---------------------------------------------------------------------------\u001b[0m",
      "\u001b[1;31mValueError\u001b[0m                                Traceback (most recent call last)",
      "\u001b[1;32m<ipython-input-31-ccad8ce1a025>\u001b[0m in \u001b[0;36m<module>\u001b[1;34m()\u001b[0m\n\u001b[0;32m      5\u001b[0m \u001b[0mnew_predictions\u001b[0m \u001b[1;33m=\u001b[0m \u001b[0mcombine_predictions\u001b[0m\u001b[1;33m(\u001b[0m\u001b[0mlist_predictions\u001b[0m\u001b[1;33m)\u001b[0m\u001b[1;33m\u001b[0m\u001b[0m\n\u001b[0;32m      6\u001b[0m \u001b[1;31m#measure f1 score\u001b[0m\u001b[1;33m\u001b[0m\u001b[1;33m\u001b[0m\u001b[0m\n\u001b[1;32m----> 7\u001b[1;33m \u001b[0mf1_score\u001b[0m\u001b[1;33m(\u001b[0m\u001b[0mY_test\u001b[0m\u001b[1;33m,\u001b[0m \u001b[0mnew_predictions\u001b[0m\u001b[1;33m)\u001b[0m\u001b[1;33m\u001b[0m\u001b[0m\n\u001b[0m",
      "\u001b[1;32m~\\Anaconda3\\lib\\site-packages\\sklearn\\metrics\\classification.py\u001b[0m in \u001b[0;36mf1_score\u001b[1;34m(y_true, y_pred, labels, pos_label, average, sample_weight)\u001b[0m\n\u001b[0;32m    712\u001b[0m     return fbeta_score(y_true, y_pred, 1, labels=labels,\n\u001b[0;32m    713\u001b[0m                        \u001b[0mpos_label\u001b[0m\u001b[1;33m=\u001b[0m\u001b[0mpos_label\u001b[0m\u001b[1;33m,\u001b[0m \u001b[0maverage\u001b[0m\u001b[1;33m=\u001b[0m\u001b[0maverage\u001b[0m\u001b[1;33m,\u001b[0m\u001b[1;33m\u001b[0m\u001b[0m\n\u001b[1;32m--> 714\u001b[1;33m                        sample_weight=sample_weight)\n\u001b[0m\u001b[0;32m    715\u001b[0m \u001b[1;33m\u001b[0m\u001b[0m\n\u001b[0;32m    716\u001b[0m \u001b[1;33m\u001b[0m\u001b[0m\n",
      "\u001b[1;32m~\\Anaconda3\\lib\\site-packages\\sklearn\\metrics\\classification.py\u001b[0m in \u001b[0;36mfbeta_score\u001b[1;34m(y_true, y_pred, beta, labels, pos_label, average, sample_weight)\u001b[0m\n\u001b[0;32m    826\u001b[0m                                                  \u001b[0maverage\u001b[0m\u001b[1;33m=\u001b[0m\u001b[0maverage\u001b[0m\u001b[1;33m,\u001b[0m\u001b[1;33m\u001b[0m\u001b[0m\n\u001b[0;32m    827\u001b[0m                                                  \u001b[0mwarn_for\u001b[0m\u001b[1;33m=\u001b[0m\u001b[1;33m(\u001b[0m\u001b[1;34m'f-score'\u001b[0m\u001b[1;33m,\u001b[0m\u001b[1;33m)\u001b[0m\u001b[1;33m,\u001b[0m\u001b[1;33m\u001b[0m\u001b[0m\n\u001b[1;32m--> 828\u001b[1;33m                                                  sample_weight=sample_weight)\n\u001b[0m\u001b[0;32m    829\u001b[0m     \u001b[1;32mreturn\u001b[0m \u001b[0mf\u001b[0m\u001b[1;33m\u001b[0m\u001b[0m\n\u001b[0;32m    830\u001b[0m \u001b[1;33m\u001b[0m\u001b[0m\n",
      "\u001b[1;32m~\\Anaconda3\\lib\\site-packages\\sklearn\\metrics\\classification.py\u001b[0m in \u001b[0;36mprecision_recall_fscore_support\u001b[1;34m(y_true, y_pred, beta, labels, pos_label, average, warn_for, sample_weight)\u001b[0m\n\u001b[0;32m   1023\u001b[0m         \u001b[1;32mraise\u001b[0m \u001b[0mValueError\u001b[0m\u001b[1;33m(\u001b[0m\u001b[1;34m\"beta should be >0 in the F-beta score\"\u001b[0m\u001b[1;33m)\u001b[0m\u001b[1;33m\u001b[0m\u001b[0m\n\u001b[0;32m   1024\u001b[0m \u001b[1;33m\u001b[0m\u001b[0m\n\u001b[1;32m-> 1025\u001b[1;33m     \u001b[0my_type\u001b[0m\u001b[1;33m,\u001b[0m \u001b[0my_true\u001b[0m\u001b[1;33m,\u001b[0m \u001b[0my_pred\u001b[0m \u001b[1;33m=\u001b[0m \u001b[0m_check_targets\u001b[0m\u001b[1;33m(\u001b[0m\u001b[0my_true\u001b[0m\u001b[1;33m,\u001b[0m \u001b[0my_pred\u001b[0m\u001b[1;33m)\u001b[0m\u001b[1;33m\u001b[0m\u001b[0m\n\u001b[0m\u001b[0;32m   1026\u001b[0m     \u001b[0mpresent_labels\u001b[0m \u001b[1;33m=\u001b[0m \u001b[0munique_labels\u001b[0m\u001b[1;33m(\u001b[0m\u001b[0my_true\u001b[0m\u001b[1;33m,\u001b[0m \u001b[0my_pred\u001b[0m\u001b[1;33m)\u001b[0m\u001b[1;33m\u001b[0m\u001b[0m\n\u001b[0;32m   1027\u001b[0m \u001b[1;33m\u001b[0m\u001b[0m\n",
      "\u001b[1;32m~\\Anaconda3\\lib\\site-packages\\sklearn\\metrics\\classification.py\u001b[0m in \u001b[0;36m_check_targets\u001b[1;34m(y_true, y_pred)\u001b[0m\n\u001b[0;32m     71\u001b[0m     \u001b[0mcheck_consistent_length\u001b[0m\u001b[1;33m(\u001b[0m\u001b[0my_true\u001b[0m\u001b[1;33m,\u001b[0m \u001b[0my_pred\u001b[0m\u001b[1;33m)\u001b[0m\u001b[1;33m\u001b[0m\u001b[0m\n\u001b[0;32m     72\u001b[0m     \u001b[0mtype_true\u001b[0m \u001b[1;33m=\u001b[0m \u001b[0mtype_of_target\u001b[0m\u001b[1;33m(\u001b[0m\u001b[0my_true\u001b[0m\u001b[1;33m)\u001b[0m\u001b[1;33m\u001b[0m\u001b[0m\n\u001b[1;32m---> 73\u001b[1;33m     \u001b[0mtype_pred\u001b[0m \u001b[1;33m=\u001b[0m \u001b[0mtype_of_target\u001b[0m\u001b[1;33m(\u001b[0m\u001b[0my_pred\u001b[0m\u001b[1;33m)\u001b[0m\u001b[1;33m\u001b[0m\u001b[0m\n\u001b[0m\u001b[0;32m     74\u001b[0m \u001b[1;33m\u001b[0m\u001b[0m\n\u001b[0;32m     75\u001b[0m     \u001b[0my_type\u001b[0m \u001b[1;33m=\u001b[0m \u001b[0mset\u001b[0m\u001b[1;33m(\u001b[0m\u001b[1;33m[\u001b[0m\u001b[0mtype_true\u001b[0m\u001b[1;33m,\u001b[0m \u001b[0mtype_pred\u001b[0m\u001b[1;33m]\u001b[0m\u001b[1;33m)\u001b[0m\u001b[1;33m\u001b[0m\u001b[0m\n",
      "\u001b[1;32m~\\Anaconda3\\lib\\site-packages\\sklearn\\utils\\multiclass.py\u001b[0m in \u001b[0;36mtype_of_target\u001b[1;34m(y)\u001b[0m\n\u001b[0;32m    242\u001b[0m     \u001b[1;32mif\u001b[0m \u001b[1;32mnot\u001b[0m \u001b[0mvalid\u001b[0m\u001b[1;33m:\u001b[0m\u001b[1;33m\u001b[0m\u001b[0m\n\u001b[0;32m    243\u001b[0m         raise ValueError('Expected array-like (array or non-string sequence), '\n\u001b[1;32m--> 244\u001b[1;33m                          'got %r' % y)\n\u001b[0m\u001b[0;32m    245\u001b[0m \u001b[1;33m\u001b[0m\u001b[0m\n\u001b[0;32m    246\u001b[0m     \u001b[0msparseseries\u001b[0m \u001b[1;33m=\u001b[0m \u001b[1;33m(\u001b[0m\u001b[0my\u001b[0m\u001b[1;33m.\u001b[0m\u001b[0m__class__\u001b[0m\u001b[1;33m.\u001b[0m\u001b[0m__name__\u001b[0m \u001b[1;33m==\u001b[0m \u001b[1;34m'SparseSeries'\u001b[0m\u001b[1;33m)\u001b[0m\u001b[1;33m\u001b[0m\u001b[0m\n",
      "\u001b[1;31mValueError\u001b[0m: Expected array-like (array or non-string sequence), got None"
     ]
    }
   ],
   "source": [
    "def combine_predictions(predictions):\n",
    "    return #define !\n",
    "list_estimators = model.estimators_\n",
    "list_predictions = [estimator.predict(X_test) for estimator in list_estimators]\n",
    "new_predictions = combine_predictions(list_predictions)\n",
    "#measure f1 score\n",
    "f1_score(Y_test, new_predictions)"
   ]
  },
  {
   "cell_type": "markdown",
   "metadata": {},
   "source": [
    "#### k) Utilice la técnica de ensamblado para seleccionar características, para ésto defina un criterio para estimar la importancia de los distintos atributos en el ensamblado, impleméntelo sobre alguno de los ensambladores entrenados para resolver el problema definido en b). Realice un *ranking* de importancia de atributos y seleccione las $k$ características más relevantes."
   ]
  },
  {
   "cell_type": "code",
   "execution_count": 32,
   "metadata": {},
   "outputs": [
    {
     "name": "stdout",
     "output_type": "stream",
     "text": [
      "Los mejores 5 atributos son: \n",
      "\n",
      "['volatile acidity', 'total sulfur dioxide', 'density', 'sulphates', 'alcohol']\n"
     ]
    }
   ],
   "source": [
    "from sklearn.feature_selection import RFE\n",
    "from sklearn.ensemble import ExtraTreesClassifier\n",
    "\n",
    "columnas = list(df_train.columns.values)\n",
    "k = 5  # número de atributos a seleccionar\n",
    "modelo = ExtraTreesClassifier()\n",
    "era = RFE(modelo, k)\n",
    "era = era.fit(X_train, Y_train)\n",
    "atrib = era.support_\n",
    "atributos = [columnas[i] for i in list(atrib.nonzero()[0])]\n",
    "print(\"Los mejores 5 atributos son: \\n\")\n",
    "print(atributos)"
   ]
  },
  {
   "cell_type": "markdown",
   "metadata": {},
   "source": [
    "##### l) Entrene la máquina de aprendizaje definida en h) sobre las $k$ carecterísticas derivadas del punto anterior ¿Mejora los resultados sobre ésta máquina de aprendizaje?"
   ]
  },
  {
   "cell_type": "code",
   "execution_count": 33,
   "metadata": {},
   "outputs": [
    {
     "data": {
      "application/vnd.jupyter.widget-view+json": {
       "model_id": "8fb249eb1a8645218d2a92efb47e10cc",
       "version_major": 2,
       "version_minor": 0
      },
      "text/plain": [
       "interactive(children=(IntSlider(value=0, description='param', max=6, min=-6), Output()), _dom_classes=('widget…"
      ]
     },
     "metadata": {},
     "output_type": "display_data"
    }
   ],
   "source": [
    "X_train = df_train.drop([\"quality\",\"alcohol\",\"fixed acidity\",\"citric acid\",\"pH\",\"Tipo\",\"residual sugar\",\"free sulfur dioxide\"],axis=1).values #Variable de entrada entrenamiento\n",
    "X_val = df_val.drop([\"quality\",\"alcohol\",\"fixed acidity\",\"citric acid\",\"pH\",\"Tipo\",\"residual sugar\",\"free sulfur dioxide\"],axis=1).values #Variable de entrada validacion\n",
    "X_test = df_test.drop([\"quality\",\"alcohol\",\"fixed acidity\",\"citric acid\",\"pH\",\"Tipo\",\"residual sugar\",\"free sulfur dioxide\"],axis=1).values #Variable de entrada test\n",
    "# SVM.\n",
    "def train_model(param):\n",
    "    model= SVM()\n",
    "    C = 10**(param)\n",
    "    print(\"Param C= \",C)\n",
    "    model.set_params(C=C,kernel='rbf')\n",
    "    model.fit(X_train,Y_train)\n",
    "    y_pred=model.predict(X_val)\n",
    "    print(\"f score\",f1_score(Y_val, y_pred,average='micro'))\n",
    "    return model\n",
    "p_min = -6 #define your range\n",
    "p_max = 6 #define your range\n",
    "\n",
    "interactive(visualize_border_interactive,param=(p_min,p_max))"
   ]
  },
  {
   "cell_type": "code",
   "execution_count": 34,
   "metadata": {},
   "outputs": [
    {
     "data": {
      "application/vnd.jupyter.widget-view+json": {
       "model_id": "85efd8162fd24480908196875bbbe988",
       "version_major": 2,
       "version_minor": 0
      },
      "text/plain": [
       "interactive(children=(IntSlider(value=15, description='param', max=30), Output()), _dom_classes=('widget-inter…"
      ]
     },
     "metadata": {},
     "output_type": "display_data"
    }
   ],
   "source": [
    "def train_model(param):\n",
    "    k=param\n",
    "    print(\"Parametro K = \",k)\n",
    "    model = KNeighborsClassifier()  \n",
    "    model.set_params(n_neighbors=param)\n",
    "    model.fit(X_train,Y_train)\n",
    "    y_pred=model.predict(X_val)\n",
    "    print(\"f score\",f1_score(Y_val, y_pred,average='micro'))\n",
    "    return model\n",
    "\n",
    "p_min = 0 #define your range\n",
    "p_max = 30 #define your range\n",
    "interactive(visualize_border_interactive,param=(p_min,p_max))"
   ]
  },
  {
   "cell_type": "markdown",
   "metadata": {},
   "source": [
    "+ A pesar se solo trabajar con los 5 parametros más inflyentes tanto la SVM y K-NN no mejoran significativamente.\n",
    "\n",
    "En concluión en data frame utilizado para entrenar maquinas con el fin de lograr clasificar la calidad del vino carece de variables influyentes lo sufientemente buenas para lograr una confienza de al menos el 70%, además los mejores resultasdos se consiguieron ensamblando arboles de clasificación."
   ]
  },
  {
   "cell_type": "markdown",
   "metadata": {},
   "source": [
    "<a id=\"segundo\"></a>\n",
    "## 2. Redes Convolucionales sobre imágenes\n",
    "---\n",
    "Las redes neuronales hoy en día han sido extendidas a numerosas aplicaciones gracias a la arquitectura definida para cada tipo de problema. Las redes neuronales que aplican la operación de convolución [[3]](#refs) o convoluciones en sus capas son concidas como *CNN* o *ConvNets*, lo cual se especializa en trabajar en datos con forma matricial (ya sea bi-dimensional o tri-dimensional), lo cual se adecúa perfectamente a imágenes (matrices), ya que gracias a su conectividad local se especializan en reconocer patrones sobre los datos de manera espacial, como refleja la siguiente imagen:\n",
    "\n",
    "<img src=\"https://cdn-images-1.medium.com/max/1600/1*N4h1SgwbWNmtrRhszM9EJg.png\" title=\"Title text\" width=\"90%\" />\n",
    "\n",
    "\n",
    "En esta actividad trabajará con un extracto bastante pequeño del dataset conocido como **101-Food**[[4]](#refs), el cual consta de mil imágenes pertenecientes a 3 clases (*Hambuger, Hot Dog* y *Pizza*) separados en conjunto de entrenamiento y validación.  \n",
    "El extracto pequeño del dataset con el que se trabajará deberá ser descargado del siguiente __[link](https://www.dropbox.com/s/56xqazmhbh0doi7/food_data.zip?dl=0)__ a través de Dropbox."
   ]
  },
  {
   "cell_type": "markdown",
   "metadata": {},
   "source": [
    "> a) Construya funciones para leer los datos y cargarlos al momento de entrenar (durante cada *epoch*), para ésto utilice *Image Data Generator* de keras."
   ]
  },
  {
   "cell_type": "code",
   "execution_count": 5,
   "metadata": {},
   "outputs": [
    {
     "name": "stdout",
     "output_type": "stream",
     "text": [
      "Found 2400 images belonging to 3 classes.\n",
      "Found 600 images belonging to 3 classes.\n"
     ]
    }
   ],
   "source": [
    "from keras.preprocessing.image import ImageDataGenerator\n",
    "train_datagen = ImageDataGenerator(\n",
    "        rescale=1./255,\n",
    "        shear_range=0.2,\n",
    "        zoom_range=0.2,\n",
    "        horizontal_flip=True)\n",
    "test_datagen = ImageDataGenerator(rescale=1./255) #no transformation\n",
    "train_generator = train_datagen.flow_from_directory(\n",
    "        'food_data/train',\n",
    "        target_size=(150, 150),\n",
    "        color_mode='rgb',\n",
    "        batch_size=32)\n",
    "validation_generator = test_datagen.flow_from_directory(\n",
    "        'food_data/val',\n",
    "        target_size=(150, 150),\n",
    "        color_mode='rgb',\n",
    "        batch_size=32)"
   ]
  },
  {
   "cell_type": "markdown",
   "metadata": {},
   "source": [
    "Se tiene un conjunto de entrenamiento de 2400 imágenes, repartidas equitativamente para cada clase, es decir, hay 800 imágenes de hamburguesas, 800 de pizzas y 800 de hot dogs. Lo mismo sucede para el conjunto de validación, el cual se encuentra compuesto por 600 imagenes (200 cada clase)."
   ]
  },
  {
   "cell_type": "markdown",
   "metadata": {},
   "source": [
    "> b) Utilice la red tradicional (*Feed Forward*) entregada en el código para ser entrenada sobre los datos vectorizados, esto es que cada imagen queda representada como un vector gigante, y las 3 clases a las que se enfrenta. Evalúe el modelo con la métrica *accuracy* sobre el conjunto de validación."
   ]
  },
  {
   "cell_type": "code",
   "execution_count": 2,
   "metadata": {},
   "outputs": [
    {
     "name": "stdout",
     "output_type": "stream",
     "text": [
      "_________________________________________________________________\n",
      "Layer (type)                 Output Shape              Param #   \n",
      "=================================================================\n",
      "flatten_1 (Flatten)          (None, 67500)             0         \n",
      "_________________________________________________________________\n",
      "batch_normalization_1 (Batch (None, 67500)             270000    \n",
      "_________________________________________________________________\n",
      "dense_1 (Dense)              (None, 256)               17280256  \n",
      "_________________________________________________________________\n",
      "dropout_1 (Dropout)          (None, 256)               0         \n",
      "_________________________________________________________________\n",
      "dense_2 (Dense)              (None, 128)               32896     \n",
      "_________________________________________________________________\n",
      "dropout_2 (Dropout)          (None, 128)               0         \n",
      "_________________________________________________________________\n",
      "dense_3 (Dense)              (None, 3)                 387       \n",
      "=================================================================\n",
      "Total params: 17,583,539\n",
      "Trainable params: 17,448,539\n",
      "Non-trainable params: 135,000\n",
      "_________________________________________________________________\n",
      "Epoch 1/25\n",
      "75/75 [==============================] - 43s 577ms/step - loss: 8.7340 - acc: 0.4338 - val_loss: 8.9420 - val_acc: 0.4375\n",
      "Epoch 2/25\n",
      "75/75 [==============================] - 40s 535ms/step - loss: 9.2678 - acc: 0.4142 - val_loss: 8.9555 - val_acc: 0.4349\n",
      "Epoch 3/25\n",
      "75/75 [==============================] - 40s 534ms/step - loss: 8.7958 - acc: 0.4483 - val_loss: 8.5470 - val_acc: 0.4665\n",
      "Epoch 4/25\n",
      "75/75 [==============================] - 40s 538ms/step - loss: 8.4112 - acc: 0.4738 - val_loss: 8.9703 - val_acc: 0.4419\n",
      "Epoch 5/25\n",
      "75/75 [==============================] - 40s 536ms/step - loss: 8.6313 - acc: 0.4612 - val_loss: 8.6276 - val_acc: 0.4577\n",
      "Epoch 6/25\n",
      "75/75 [==============================] - 40s 534ms/step - loss: 9.1847 - acc: 0.4267 - val_loss: 9.1013 - val_acc: 0.4313\n",
      "Epoch 7/25\n",
      "75/75 [==============================] - 40s 530ms/step - loss: 8.7668 - acc: 0.4521 - val_loss: 8.4020 - val_acc: 0.4771\n",
      "Epoch 8/25\n",
      "75/75 [==============================] - 40s 536ms/step - loss: 8.6162 - acc: 0.4629 - val_loss: 8.8154 - val_acc: 0.4489\n",
      "Epoch 9/25\n",
      "75/75 [==============================] - 40s 529ms/step - loss: 8.6806 - acc: 0.4592 - val_loss: 8.6400 - val_acc: 0.4613\n",
      "Epoch 10/25\n",
      "75/75 [==============================] - 42s 558ms/step - loss: 8.4936 - acc: 0.4712 - val_loss: 8.8971 - val_acc: 0.4472\n",
      "Epoch 11/25\n",
      "75/75 [==============================] - 41s 546ms/step - loss: 8.4075 - acc: 0.4763 - val_loss: 9.0338 - val_acc: 0.4349\n",
      "Epoch 12/25\n",
      "75/75 [==============================] - 43s 574ms/step - loss: 8.6908 - acc: 0.4575 - val_loss: 9.2332 - val_acc: 0.4243\n",
      "Epoch 13/25\n",
      "75/75 [==============================] - 43s 570ms/step - loss: 8.9747 - acc: 0.4412 - val_loss: 8.2879 - val_acc: 0.4806\n",
      "Epoch 14/25\n",
      "75/75 [==============================] - 41s 542ms/step - loss: 8.5689 - acc: 0.4663 - val_loss: 9.4313 - val_acc: 0.4137\n",
      "Epoch 15/25\n",
      "75/75 [==============================] - 42s 563ms/step - loss: 8.2623 - acc: 0.4838 - val_loss: 8.3862 - val_acc: 0.4771\n",
      "Epoch 16/25\n",
      "75/75 [==============================] - 45s 603ms/step - loss: 8.0931 - acc: 0.4967 - val_loss: 8.4115 - val_acc: 0.4718\n",
      "Epoch 17/25\n",
      "75/75 [==============================] - 46s 607ms/step - loss: 7.7777 - acc: 0.5150 - val_loss: 8.6662 - val_acc: 0.4595\n",
      "Epoch 18/25\n",
      "75/75 [==============================] - 43s 567ms/step - loss: 7.9013 - acc: 0.5071 - val_loss: 9.1020 - val_acc: 0.4349\n",
      "Epoch 19/25\n",
      "75/75 [==============================] - 42s 557ms/step - loss: 7.8977 - acc: 0.5054 - val_loss: 8.5808 - val_acc: 0.4665\n",
      "Epoch 20/25\n",
      "75/75 [==============================] - 45s 595ms/step - loss: 8.3384 - acc: 0.4808 - val_loss: 9.1518 - val_acc: 0.4306\n",
      "Epoch 21/25\n",
      "75/75 [==============================] - 41s 541ms/step - loss: 8.0573 - acc: 0.4983 - val_loss: 8.1478 - val_acc: 0.4930\n",
      "Epoch 22/25\n",
      "75/75 [==============================] - 43s 575ms/step - loss: 7.5487 - acc: 0.5288 - val_loss: 8.7953 - val_acc: 0.4542\n",
      "Epoch 23/25\n",
      "75/75 [==============================] - 43s 568ms/step - loss: 7.9334 - acc: 0.5037 - val_loss: 8.7663 - val_acc: 0.4560\n",
      "Epoch 24/25\n",
      "75/75 [==============================] - 44s 591ms/step - loss: 7.9937 - acc: 0.5029 - val_loss: 8.4884 - val_acc: 0.4701\n",
      "Epoch 25/25\n",
      "75/75 [==============================] - 46s 612ms/step - loss: 7.8822 - acc: 0.5092 - val_loss: 8.2901 - val_acc: 0.4824\n"
     ]
    },
    {
     "data": {
      "text/plain": [
       "<keras.callbacks.History at 0x22326faec18>"
      ]
     },
     "execution_count": 2,
     "metadata": {},
     "output_type": "execute_result"
    }
   ],
   "source": [
    "from keras.models import Sequential\n",
    "from keras.layers import *\n",
    "model = Sequential()\n",
    "model.add(Flatten(input_shape=train_generator.image_shape)) #full dense\n",
    "model.add(BatchNormalization()) #to normalize the input..\n",
    "model.add(Dense(256,activation='relu'))\n",
    "model.add(Dropout(0.25))\n",
    "model.add(Dense(128,activation='relu')) #128\n",
    "model.add(Dropout(0.25))\n",
    "model.add(Dense(3,activation='softmax'))\n",
    "model.compile(loss='categorical_crossentropy', optimizer='rmsprop', metrics=['accuracy']) # Let's train the model using RMSprop\n",
    "model.summary()\n",
    "model.fit_generator(\n",
    "        train_generator,\n",
    "        steps_per_epoch=len(train_generator.classes)//train_generator.batch_size, #samples//batch_size\n",
    "        epochs=25,\n",
    "        validation_data=validation_generator,\n",
    "        validation_steps=len(validation_generator.classes)//validation_generator.batch_size)\n",
    "#print(\"Accuracy validation: \",model.evaluate_generator(generator=validation_generator)[1])"
   ]
  },
  {
   "cell_type": "code",
   "execution_count": 3,
   "metadata": {},
   "outputs": [
    {
     "name": "stdout",
     "output_type": "stream",
     "text": [
      "Accuracy validation:  0.40625\n",
      "Accuracy validation:  0.4647435905077519\n",
      "Accuracy validation:  0.4765228421857514\n",
      "Accuracy validation:  0.4712025317964674\n"
     ]
    }
   ],
   "source": [
    "print(\"Accuracy validation: \",model.evaluate_generator(generator=validation_generator,steps=1)[1])\n",
    "print(\"Accuracy validation: \",model.evaluate_generator(generator=validation_generator,steps=10)[1])\n",
    "print(\"Accuracy validation: \",model.evaluate_generator(generator=validation_generator,steps=50)[1])\n",
    "print(\"Accuracy validation: \",model.evaluate_generator(generator=validation_generator,steps=100)[1])"
   ]
  },
  {
   "cell_type": "markdown",
   "metadata": {},
   "source": [
    "Se evalua el código de acuerdo al conjunto de validación, probando distinos valores para el parámetro \"steps\" (el parámetro step es el numero de batch de las muestras para predecir antes de parar).\n",
    "\n",
    "En general, el accuracy es mayor al 40%, pero se ve que este se estabiliza a medida que aumentan los steps (lo cuál resulta lógico) en un 47% de accuracy, valor que es un poco mayor al random (33%), lo cual indica que el modelo no presenta un resultado esperado óptimo, y quizás sea necesario buscar otras formas de generar el modelo."
   ]
  },
  {
   "cell_type": "markdown",
   "metadata": {},
   "source": [
    "> c) Utilice la red convolucional (**CNN**) entregada en el código para ser entrenada sobre los datos brutos, matrices RGB de píxeles, y las 3 clases a las que se enfrenta. Evalúe el modelo con la métrica *accuracy* sobre el conjunto de validación. Compare."
   ]
  },
  {
   "cell_type": "code",
   "execution_count": 6,
   "metadata": {},
   "outputs": [
    {
     "name": "stdout",
     "output_type": "stream",
     "text": [
      "_________________________________________________________________\n",
      "Layer (type)                 Output Shape              Param #   \n",
      "=================================================================\n",
      "conv2d_1 (Conv2D)            (None, 150, 150, 32)      896       \n",
      "_________________________________________________________________\n",
      "conv2d_2 (Conv2D)            (None, 148, 148, 32)      9248      \n",
      "_________________________________________________________________\n",
      "max_pooling2d_1 (MaxPooling2 (None, 74, 74, 32)        0         \n",
      "_________________________________________________________________\n",
      "dropout_3 (Dropout)          (None, 74, 74, 32)        0         \n",
      "_________________________________________________________________\n",
      "conv2d_3 (Conv2D)            (None, 74, 74, 64)        18496     \n",
      "_________________________________________________________________\n",
      "conv2d_4 (Conv2D)            (None, 72, 72, 64)        36928     \n",
      "_________________________________________________________________\n",
      "max_pooling2d_2 (MaxPooling2 (None, 36, 36, 64)        0         \n",
      "_________________________________________________________________\n",
      "dropout_4 (Dropout)          (None, 36, 36, 64)        0         \n",
      "_________________________________________________________________\n",
      "flatten_2 (Flatten)          (None, 82944)             0         \n",
      "_________________________________________________________________\n",
      "dense_4 (Dense)              (None, 128)               10616960  \n",
      "_________________________________________________________________\n",
      "dropout_5 (Dropout)          (None, 128)               0         \n",
      "_________________________________________________________________\n",
      "dense_5 (Dense)              (None, 3)                 387       \n",
      "=================================================================\n",
      "Total params: 10,682,915\n",
      "Trainable params: 10,682,915\n",
      "Non-trainable params: 0\n",
      "_________________________________________________________________\n",
      "Epoch 1/25\n",
      "75/75 [==============================] - 300s 4s/step - loss: 1.1376 - acc: 0.4054 - val_loss: 1.0520 - val_acc: 0.4137\n",
      "Epoch 2/25\n",
      "75/75 [==============================] - 289s 4s/step - loss: 1.0527 - acc: 0.4558 - val_loss: 1.0512 - val_acc: 0.4665\n",
      "Epoch 3/25\n",
      "75/75 [==============================] - 289s 4s/step - loss: 1.0163 - acc: 0.4967 - val_loss: 0.9921 - val_acc: 0.5174\n",
      "Epoch 4/25\n",
      "75/75 [==============================] - 289s 4s/step - loss: 0.9722 - acc: 0.5421 - val_loss: 0.9316 - val_acc: 0.5563\n",
      "Epoch 5/25\n",
      "75/75 [==============================] - 289s 4s/step - loss: 0.9432 - acc: 0.5700 - val_loss: 0.9615 - val_acc: 0.5141\n",
      "Epoch 6/25\n",
      "75/75 [==============================] - 289s 4s/step - loss: 0.9191 - acc: 0.5783 - val_loss: 0.8951 - val_acc: 0.5739\n",
      "Epoch 7/25\n",
      "75/75 [==============================] - 289s 4s/step - loss: 0.8983 - acc: 0.5925 - val_loss: 0.8891 - val_acc: 0.5792\n",
      "Epoch 8/25\n",
      "75/75 [==============================] - 289s 4s/step - loss: 0.8642 - acc: 0.6192 - val_loss: 0.9111 - val_acc: 0.5739\n",
      "Epoch 9/25\n",
      "75/75 [==============================] - 291s 4s/step - loss: 0.8250 - acc: 0.6338 - val_loss: 0.7920 - val_acc: 0.6655\n",
      "Epoch 10/25\n",
      "75/75 [==============================] - 303s 4s/step - loss: 0.7774 - acc: 0.6575 - val_loss: 0.7226 - val_acc: 0.6972\n",
      "Epoch 11/25\n",
      "75/75 [==============================] - 302s 4s/step - loss: 0.7709 - acc: 0.6713 - val_loss: 0.7186 - val_acc: 0.7042\n",
      "Epoch 12/25\n",
      "75/75 [==============================] - 289s 4s/step - loss: 0.7423 - acc: 0.6825 - val_loss: 0.8071 - val_acc: 0.6391\n",
      "Epoch 13/25\n",
      "75/75 [==============================] - 289s 4s/step - loss: 0.7109 - acc: 0.6942 - val_loss: 0.6876 - val_acc: 0.7218\n",
      "Epoch 14/25\n",
      "75/75 [==============================] - 300s 4s/step - loss: 0.7091 - acc: 0.6921 - val_loss: 0.7650 - val_acc: 0.6479\n",
      "Epoch 15/25\n",
      "75/75 [==============================] - 277s 4s/step - loss: 0.6671 - acc: 0.7175 - val_loss: 0.6959 - val_acc: 0.7218\n",
      "Epoch 16/25\n",
      "75/75 [==============================] - 280s 4s/step - loss: 0.6651 - acc: 0.7258 - val_loss: 0.6967 - val_acc: 0.7077\n",
      "Epoch 17/25\n",
      "75/75 [==============================] - 284s 4s/step - loss: 0.6418 - acc: 0.7333 - val_loss: 0.7025 - val_acc: 0.6937\n",
      "Epoch 18/25\n",
      "75/75 [==============================] - 303s 4s/step - loss: 0.6583 - acc: 0.7221 - val_loss: 0.6487 - val_acc: 0.7412\n",
      "Epoch 19/25\n",
      "75/75 [==============================] - 307s 4s/step - loss: 0.6322 - acc: 0.7308 - val_loss: 0.8449 - val_acc: 0.6655\n",
      "Epoch 20/25\n",
      "75/75 [==============================] - 287s 4s/step - loss: 0.6094 - acc: 0.7408 - val_loss: 0.6451 - val_acc: 0.6989\n",
      "Epoch 21/25\n",
      "75/75 [==============================] - 278s 4s/step - loss: 0.6239 - acc: 0.7471 - val_loss: 0.6884 - val_acc: 0.6972\n",
      "Epoch 22/25\n",
      "75/75 [==============================] - 273s 4s/step - loss: 0.6047 - acc: 0.7550 - val_loss: 0.6536 - val_acc: 0.7153\n",
      "Epoch 23/25\n",
      "75/75 [==============================] - 280s 4s/step - loss: 0.5965 - acc: 0.7508 - val_loss: 0.6380 - val_acc: 0.7254\n",
      "Epoch 24/25\n",
      "75/75 [==============================] - 300s 4s/step - loss: 0.5818 - acc: 0.7500 - val_loss: 0.7237 - val_acc: 0.7007\n",
      "Epoch 25/25\n",
      "75/75 [==============================] - 366s 5s/step - loss: 0.6074 - acc: 0.7550 - val_loss: 0.6147 - val_acc: 0.7412\n"
     ]
    },
    {
     "data": {
      "text/plain": [
       "<keras.callbacks.History at 0x18c842f63c8>"
      ]
     },
     "execution_count": 6,
     "metadata": {},
     "output_type": "execute_result"
    }
   ],
   "source": [
    "model = Sequential()\n",
    "model.add(Conv2D(32, (3, 3), padding='same',input_shape=train_generator.image_shape,activation='relu'))\n",
    "model.add(Conv2D(32, (3, 3),activation='relu'))\n",
    "model.add(MaxPool2D(pool_size=(2, 2)))\n",
    "model.add(Dropout(0.25))\n",
    "model.add(Conv2D(64, (3, 3), padding='same',activation='relu'))\n",
    "model.add(Conv2D(64, (3, 3),activation='relu'))\n",
    "model.add(MaxPool2D(pool_size=(2, 2)))\n",
    "model.add(Dropout(0.25))\n",
    "model.add(Flatten())\n",
    "model.add(Dense(128,activation='relu'))\n",
    "model.add(Dropout(0.5)) \n",
    "model.add(Dense(len(train_generator.class_indices),activation='softmax'))\n",
    "model.compile(loss='categorical_crossentropy', optimizer='rmsprop', metrics=['accuracy']) # Let's train the model using RMSprop\n",
    "model.summary()\n",
    "model.fit_generator(\n",
    "        train_generator,\n",
    "        steps_per_epoch=len(train_generator.classes)//train_generator.batch_size, #samples//batch_size\n",
    "        epochs=25,\n",
    "        validation_data=validation_generator,\n",
    "        validation_steps=len(validation_generator.classes)//validation_generator.batch_size)"
   ]
  },
  {
   "cell_type": "code",
   "execution_count": 22,
   "metadata": {},
   "outputs": [
    {
     "name": "stdout",
     "output_type": "stream",
     "text": [
      "Accuracy validation:  0.84375\n",
      "Accuracy validation:  0.7499999984716758\n",
      "Accuracy validation:  0.728426395333963\n",
      "Accuracy validation:  0.7300632912901384\n"
     ]
    }
   ],
   "source": [
    "print(\"Accuracy validation: \",model.evaluate_generator(generator=validation_generator,steps=1)[1])\n",
    "print(\"Accuracy validation: \",model.evaluate_generator(generator=validation_generator,steps=10)[1])\n",
    "print(\"Accuracy validation: \",model.evaluate_generator(generator=validation_generator,steps=50)[1])\n",
    "print(\"Accuracy validation: \",model.evaluate_generator(generator=validation_generator,steps=100)[1])"
   ]
  },
  {
   "cell_type": "markdown",
   "metadata": {},
   "source": [
    "Ocupando CNN, el valor del accuracy el altísimo (en comparación con el modelo anterior) para un valor de \"steps\" pequeño, sin embargo, mientras se va aumentando los \"steps\", va tendiendo a un valor, tal como ocurrió con el modelo anterior, valor que resulta similar al del accuracy presente en cada epoch, quedando en un resultado de 72-73% de accuracy, lo cual indica una notable mejora con respecto al modelo anterior de red neuronal tradicional."
   ]
  },
  {
   "cell_type": "code",
   "execution_count": 23,
   "metadata": {},
   "outputs": [
    {
     "data": {
      "text/plain": [
       "array([[57, 86, 57],\n",
       "       [55, 71, 74],\n",
       "       [58, 93, 49]], dtype=int64)"
      ]
     },
     "execution_count": 23,
     "metadata": {},
     "output_type": "execute_result"
    }
   ],
   "source": [
    "from sklearn.metrics import confusion_matrix \n",
    "Y_pred = model.predict_generator(validation_generator,len(validation_generator.classes)//validation_generator.batch_size+1)\n",
    "y_pred = np.argmax(Y_pred, axis=1)\n",
    "confusion_matrix = confusion_matrix(validation_generator.classes, y_pred)\n",
    "confusion_matrix"
   ]
  },
  {
   "cell_type": "markdown",
   "metadata": {},
   "source": [
    "La matriz anterior indica que de las 200 imagenes de hamburguesas, 57 fueron correctamente predecidas, 86 fueron predecidas como hot dogs  y 57 como pizzas. De las 200 imágenes de hot dogs, 55 fueron clasificadas como hamburguesas, 71 como hot dogs y 74 como pizzas. Y finalmente, de las 200 imágenes de pizzas, 58 fueron clasificadas como hamburguesas, 93 como hot dogs y 49 fueron correctamente clasificadas. Lo anterior muestra que la clase que domina es la de hot dogs, ya que se predicen mucho más que las demás."
   ]
  },
  {
   "cell_type": "markdown",
   "metadata": {},
   "source": [
    "> d) Genere un conjunto datos con incorrecta etiquetación de manera manual y vea si el modelo convolucional se sigue comportando de la misma manera. Para esto tome 100 imágenes aleatorias de entrenamiento de la carpeta *hot dog* y 100 imágenes aleatorias de entrenamiento de la carpeta *hamburger* e intercambielas, sin manipular las imágenes de la carpeta *pizza* y con el conjunto de validación intacto. Genere las matrices de confusión en el conjunto de validación para visualizar cómo afectó al modelo la corrupción realizada a los datos."
   ]
  },
  {
   "cell_type": "code",
   "execution_count": 4,
   "metadata": {},
   "outputs": [
    {
     "name": "stdout",
     "output_type": "stream",
     "text": [
      "Found 2400 images belonging to 3 classes.\n",
      "Found 600 images belonging to 3 classes.\n"
     ]
    }
   ],
   "source": [
    "from keras.preprocessing.image import ImageDataGenerator\n",
    "train_datagen = ImageDataGenerator(\n",
    "        rescale=1./255,\n",
    "        shear_range=0.2,\n",
    "        zoom_range=0.2,\n",
    "        horizontal_flip=True)\n",
    "test_datagen = ImageDataGenerator(rescale=1./255) #no transformation\n",
    "train_generator = train_datagen.flow_from_directory(\n",
    "        'food_data2/train',\n",
    "        target_size=(150, 150),\n",
    "        color_mode='rgb',\n",
    "        batch_size=32)\n",
    "validation_generator = test_datagen.flow_from_directory(\n",
    "        'food_data2/val',\n",
    "        target_size=(150, 150),\n",
    "        color_mode='rgb',\n",
    "        batch_size=32)"
   ]
  },
  {
   "cell_type": "markdown",
   "metadata": {},
   "source": [
    "Las dimensiones de cada conjunto son identicas que para los conjuntos anteriores, solo difieren en el contenido de las imagenes, que se encuentra alterado de acuerdo al intercambio de 100 imágenes propuesto."
   ]
  },
  {
   "cell_type": "code",
   "execution_count": 17,
   "metadata": {},
   "outputs": [
    {
     "name": "stdout",
     "output_type": "stream",
     "text": [
      "_________________________________________________________________\n",
      "Layer (type)                 Output Shape              Param #   \n",
      "=================================================================\n",
      "conv2d_9 (Conv2D)            (None, 150, 150, 32)      896       \n",
      "_________________________________________________________________\n",
      "conv2d_10 (Conv2D)           (None, 148, 148, 32)      9248      \n",
      "_________________________________________________________________\n",
      "max_pooling2d_5 (MaxPooling2 (None, 74, 74, 32)        0         \n",
      "_________________________________________________________________\n",
      "dropout_9 (Dropout)          (None, 74, 74, 32)        0         \n",
      "_________________________________________________________________\n",
      "conv2d_11 (Conv2D)           (None, 74, 74, 64)        18496     \n",
      "_________________________________________________________________\n",
      "conv2d_12 (Conv2D)           (None, 72, 72, 64)        36928     \n",
      "_________________________________________________________________\n",
      "max_pooling2d_6 (MaxPooling2 (None, 36, 36, 64)        0         \n",
      "_________________________________________________________________\n",
      "dropout_10 (Dropout)         (None, 36, 36, 64)        0         \n",
      "_________________________________________________________________\n",
      "flatten_4 (Flatten)          (None, 82944)             0         \n",
      "_________________________________________________________________\n",
      "dense_8 (Dense)              (None, 128)               10616960  \n",
      "_________________________________________________________________\n",
      "dropout_11 (Dropout)         (None, 128)               0         \n",
      "_________________________________________________________________\n",
      "dense_9 (Dense)              (None, 3)                 387       \n",
      "=================================================================\n",
      "Total params: 10,682,915\n",
      "Trainable params: 10,682,915\n",
      "Non-trainable params: 0\n",
      "_________________________________________________________________\n",
      "Epoch 1/10\n",
      "75/75 [==============================] - 309s 4s/step - loss: 1.1858 - acc: 0.3908 - val_loss: 1.0292 - val_acc: 0.4771\n",
      "Epoch 2/10\n",
      "75/75 [==============================] - 323s 4s/step - loss: 1.0514 - acc: 0.4692 - val_loss: 1.0125 - val_acc: 0.4965\n",
      "Epoch 3/10\n",
      "75/75 [==============================] - 311s 4s/step - loss: 1.0370 - acc: 0.5050 - val_loss: 0.9428 - val_acc: 0.5599\n",
      "Epoch 4/10\n",
      "75/75 [==============================] - 305s 4s/step - loss: 0.9895 - acc: 0.5358 - val_loss: 0.9521 - val_acc: 0.5493\n",
      "Epoch 5/10\n",
      "75/75 [==============================] - 300s 4s/step - loss: 0.9523 - acc: 0.5592 - val_loss: 0.9433 - val_acc: 0.5845\n",
      "Epoch 6/10\n",
      "75/75 [==============================] - 277s 4s/step - loss: 0.9460 - acc: 0.5529 - val_loss: 0.8967 - val_acc: 0.5880\n",
      "Epoch 7/10\n",
      "75/75 [==============================] - 315s 4s/step - loss: 0.9205 - acc: 0.5796 - val_loss: 0.8978 - val_acc: 0.5493\n",
      "Epoch 8/10\n",
      "75/75 [==============================] - 293s 4s/step - loss: 0.8732 - acc: 0.6033 - val_loss: 0.8878 - val_acc: 0.5845\n",
      "Epoch 9/10\n",
      "75/75 [==============================] - 305s 4s/step - loss: 0.8852 - acc: 0.6021 - val_loss: 0.8602 - val_acc: 0.5968\n",
      "Epoch 10/10\n",
      "75/75 [==============================] - 337s 4s/step - loss: 0.8345 - acc: 0.6317 - val_loss: 0.8348 - val_acc: 0.6180\n"
     ]
    },
    {
     "data": {
      "text/plain": [
       "<keras.callbacks.History at 0x2232d5267f0>"
      ]
     },
     "execution_count": 17,
     "metadata": {},
     "output_type": "execute_result"
    }
   ],
   "source": [
    "model = Sequential()\n",
    "model.add(Conv2D(32, (3, 3), padding='same',input_shape=train_generator.image_shape,activation='relu'))\n",
    "model.add(Conv2D(32, (3, 3),activation='relu'))\n",
    "model.add(MaxPool2D(pool_size=(2, 2)))\n",
    "model.add(Dropout(0.25))\n",
    "model.add(Conv2D(64, (3, 3), padding='same',activation='relu'))\n",
    "model.add(Conv2D(64, (3, 3),activation='relu'))\n",
    "model.add(MaxPool2D(pool_size=(2, 2)))\n",
    "model.add(Dropout(0.25))\n",
    "model.add(Flatten())\n",
    "model.add(Dense(128,activation='relu'))\n",
    "model.add(Dropout(0.5)) \n",
    "model.add(Dense(len(train_generator.class_indices),activation='softmax'))\n",
    "model.compile(loss='categorical_crossentropy', optimizer='rmsprop', metrics=['accuracy']) # Let's train the model using RMSprop\n",
    "model.summary()\n",
    "model.fit_generator(\n",
    "        train_generator,\n",
    "        steps_per_epoch=len(train_generator.classes)//train_generator.batch_size, #samples//batch_size\n",
    "        epochs=10,\n",
    "        validation_data=validation_generator,\n",
    "        validation_steps=len(validation_generator.classes)//validation_generator.batch_size)"
   ]
  },
  {
   "cell_type": "markdown",
   "metadata": {},
   "source": [
    "Debido a problemas técnicos, fue imposible correr todo el modelo, se demoraba muchísimo y dejaba pegado el pc porque ocupaba muchísimos recursos, así que se resumió sólo a 10 epoch, y los resultados de las predicciones del conjunto de validación se comportan de manera similar (considerando los 10 primeros epoch), es decir, aumentan a medida que aumentan los epoch, pero los resultados son más bajos que para el modelo con imagenes normales, aunque no significativamente más bajos, sólo un par de puntos."
   ]
  },
  {
   "cell_type": "code",
   "execution_count": 18,
   "metadata": {},
   "outputs": [
    {
     "data": {
      "text/plain": [
       "array([[86, 78, 36],\n",
       "       [71, 90, 39],\n",
       "       [64, 92, 44]], dtype=int64)"
      ]
     },
     "execution_count": 18,
     "metadata": {},
     "output_type": "execute_result"
    }
   ],
   "source": [
    "from sklearn.metrics import confusion_matrix \n",
    "Y_pred = model.predict_generator(validation_generator,len(validation_generator.classes)//validation_generator.batch_size+1)\n",
    "y_pred = np.argmax(Y_pred, axis=1)\n",
    "confusion_matrix = confusion_matrix(validation_generator.classes, y_pred)\n",
    "confusion_matrix"
   ]
  },
  {
   "cell_type": "markdown",
   "metadata": {},
   "source": [
    "De la matriz anterior es posible identificar que las predicciones de las pizzas fueron las que se vieron más afectadas, ya que reducieron mucho su aparición, los hot dogs siguen dominando, pero sus valores se mantuvieron más constantes, pero se predijeron muchas más hamburguesas, aumentando mucho sus apariciones.\n",
    "\n",
    "Este resultado es esperado, ya que como en el modelo anterior los hot dogs dominaban, al poner ciertas imagenes de hot dogs en las hamburguesas, aumentan las predicciones de estas últimas, pudiendo concluir que las imagenes de los hot dogs son mucho más potentes para el algorimo que las de hamburguesas y las de pizzas."
   ]
  },
  {
   "cell_type": "markdown",
   "metadata": {},
   "source": [
    "<a id=\"tercero\"></a>\n",
    "## 3. [Opcional] Cadenas de Markov\n",
    "---\n",
    "> *Dado que esta actividad es opcional, el puntaje obtenido si se realiza será equivalente a un bonus sobre el promedio final de notas de tareas.*\n",
    "\n",
    "En esta sección emplearemos un modelo **no supervisado** especializado en secuencias, como lo son las cadenas de markov, para modelar series de tiempo, es decir una serie de registros (tı́picamente valores reales) regularmente indexados en el tiempo. Parea ello utilizaremos el dataset denominado “*international airline passengers*” [[5]](#refs). La tarea consiste en predecir el número de pasajeros (miles) en vuelos internacionales.\n",
    "\n",
    "\n",
    "<img src=\"https://i.imgur.com/Fyf0LK6.png\" title=\"Title text\" width=\"80%\" />\n",
    "\n",
    "Los datos pueden ser descargados a través del siguiente __[link](https://datamarket.com/data/set/22u3/international-airline-passengers-monthly-totals-in-thousands-jan-49-dec-60#!ds=22u3&display=line)__. También están disponibles en Kaggle a través del siguiente __[link](https://www.kaggle.com/andreazzini/international-airline-passengers)__\n",
    "\n",
    "Para la actividad se trabajará con la librería de *sklearn* para aprendizaje sobre secuencias HMM (*Hidden Markov Model*), también puede acudir a la documentación online a través del siguiente __[link](https://hmmlearn.readthedocs.io/en/latest/tutorial.html#available-models)__.\n",
    "```\n",
    "pip install --upgrade hmmlearn\n",
    "conda install -c omnia hmmlearn\n",
    "```"
   ]
  },
  {
   "cell_type": "markdown",
   "metadata": {},
   "source": [
    "> a) Escriba una función que cargue los datos, los divida en conjuntos de entrenamiento y de pruebas. En base a como trabajan las cadenas de markov ¿Es necesario escalar los datos?"
   ]
  },
  {
   "cell_type": "code",
   "execution_count": 50,
   "metadata": {},
   "outputs": [],
   "source": [
    "import pandas as pd\n",
    "name_f = \"international-airline-passengers.csv\"\n",
    "dataframe = pd.read_csv(name_f,sep=',',usecols=[1],engine='python',skipfooter = 3)\n",
    "dataframe[:] = dataframe[:].astype('float32')\n",
    "X_train, X_test = dataframe[:96].values, dataframe[96:].values"
   ]
  },
  {
   "cell_type": "code",
   "execution_count": 51,
   "metadata": {},
   "outputs": [
    {
     "name": "stdout",
     "output_type": "stream",
     "text": [
      "El tamaño del conjunto de entrenamiento es de : 96\n",
      "El tamaño del conjunto de testing es de : 48\n"
     ]
    }
   ],
   "source": [
    "print(\"El tamaño del conjunto de entrenamiento es de :\", X_train.shape[0])\n",
    "print(\"El tamaño del conjunto de testing es de :\", X_test.shape[0])"
   ]
  },
  {
   "cell_type": "markdown",
   "metadata": {},
   "source": [
    "> b) Para resolver el problema defina un modelo de cadena de markov de primer orden con estados ocultos (*hidden markov model*) simple con un generador de datos osbervados que e distribuye normal $p(x_t|s_t)=\\mathcal{N}(\\mu_{s},\\sigma_{s})$. Para evaluar mida la log-verosimilitud (*log-likelihood*) del modelo sobre el conjunto de entrenamiento y de pruebas. Comente"
   ]
  },
  {
   "cell_type": "code",
   "execution_count": 52,
   "metadata": {},
   "outputs": [
    {
     "name": "stderr",
     "output_type": "stream",
     "text": [
      "C:\\Users\\Jorge\\Anaconda3\\lib\\site-packages\\sklearn\\utils\\deprecation.py:77: DeprecationWarning: Function distribute_covar_matrix_to_match_covariance_type is deprecated; The function distribute_covar_matrix_to_match_covariance_typeis deprecated in 0.18 and will be removed in 0.20.\n",
      "  warnings.warn(msg, category=DeprecationWarning)\n"
     ]
    },
    {
     "data": {
      "text/plain": [
       "GaussianHMM(algorithm='viterbi', covariance_type='diag', covars_prior=0.01,\n",
       "      covars_weight=1, init_params='stmc', means_prior=0, means_weight=0,\n",
       "      min_covar=0.001, n_components=3, n_iter=100, params='stmc',\n",
       "      random_state=None, startprob_prior=1.0, tol=0.01, transmat_prior=1.0,\n",
       "      verbose=False)"
      ]
     },
     "execution_count": 52,
     "metadata": {},
     "output_type": "execute_result"
    }
   ],
   "source": [
    "from hmmlearn import hmm\n",
    "import numpy as np\n",
    "np.random.seed(30)\n",
    "n_state = 3\n",
    "markov_model = hmm.GaussianHMM(n_components=n_state, n_iter=100)\n",
    "markov_model.fit(X_train)"
   ]
  },
  {
   "cell_type": "code",
   "execution_count": 66,
   "metadata": {},
   "outputs": [
    {
     "name": "stdout",
     "output_type": "stream",
     "text": [
      "score conjunto entrenamiento:  -473.0856244427899\n",
      "score conjunto testing:  -462.7315424655113\n"
     ]
    }
   ],
   "source": [
    "print(\"score conjunto entrenamiento: \",markov_model.score(X_train))\n",
    "print(\"score conjunto testing: \",markov_model.score(X_test))"
   ]
  },
  {
   "cell_type": "markdown",
   "metadata": {},
   "source": [
    "Los valores que entrega al evaluar log-likelihood son valores negativos, lo cual es el resultado esperado debido a que estamos trabajando con una distribución discreta. La diferencia entre el conjunto de entrenamiento y el de testing es muy pequeña idicando que el modelo logra una correcta adaptación a los datos."
   ]
  },
  {
   "cell_type": "markdown",
   "metadata": {},
   "source": [
    "> c) Analice cualitativamente lo que aprendió el modelo a través de las distribuciones de probabilidad de las observaciones para un estado oculto dado, esto es, $p(x_t|s_t)$, y las distribuciones de probabilidad de transición $p(s_{t+1}|s_t)$. Comente."
   ]
  },
  {
   "cell_type": "code",
   "execution_count": 54,
   "metadata": {},
   "outputs": [
    {
     "name": "stderr",
     "output_type": "stream",
     "text": [
      "C:\\Users\\Jorge\\Anaconda3\\lib\\site-packages\\scipy\\stats\\stats.py:1713: FutureWarning: Using a non-tuple sequence for multidimensional indexing is deprecated; use `arr[tuple(seq)]` instead of `arr[seq]`. In the future this will be interpreted as an array index, `arr[np.array(seq)]`, which will result either in an error or a different result.\n",
      "  return np.add.reduce(sorted[indexer] * weights, axis=axis) / sumval\n"
     ]
    },
    {
     "data": {
      "image/png": "[encoded data removed]",
      "text/plain": [
       "<Figure size 432x288 with 1 Axes>"
      ]
     },
     "metadata": {},
     "output_type": "display_data"
    },
    {
     "data": {
      "image/png": "[encoded data removed]",
      "text/plain": [
       "<Figure size 432x288 with 2 Axes>"
      ]
     },
     "metadata": {},
     "output_type": "display_data"
    }
   ],
   "source": [
    "import seaborn as sns\n",
    "from scipy.stats import norm\n",
    "import itertools\n",
    "for i in range(n_state):\n",
    "    r = norm(markov_model.means_[i], np.sqrt( markov_model.covars_[i,0])).rvs(10000)\n",
    "    sns.distplot(r,kde=True, hist=False,label=\"Estado \"+str(i))\n",
    "plt.legend()\n",
    "plt.title(\"Distribuciones de cada estado\")\n",
    "plt.show()\n",
    "def plot_state_matrix(cm, states,title='Transition Probabilities',cmap=plt.cm.Blues):\n",
    "    plt.imshow(cm, interpolation='nearest', cmap=cmap)\n",
    "    plt.title(title)\n",
    "    plt.colorbar()\n",
    "    tick_marks = np.arange(len(states))\n",
    "    plt.xticks(tick_marks, states)\n",
    "    plt.yticks(tick_marks, states)\n",
    "    for i, j in itertools.product(range(cm.shape[0]), range(cm.shape[1])):\n",
    "        plt.text(j, i, format(cm[i, j], '.2f'),\n",
    "                 horizontalalignment=\"center\",\n",
    "                 color=\"white\" if cm[i, j] > cm.max() / 2. else \"black\")\n",
    "    plt.ylabel('Origin state')\n",
    "    plt.xlabel('Destination state')\n",
    "    plt.tight_layout()\n",
    "plot_state_matrix(markov_model.transmat_,np.arange(n_state))"
   ]
  },
  {
   "cell_type": "markdown",
   "metadata": {},
   "source": [
    "La matriz de probabilidades anterior muestra que las clases son correctamente predecidas casi en su totalidad, la clase cero es predecida en 0.94, la clase 1 en o.96 y la clase 2 en 0.94, valores muy altos, y por ende la mala clasificación de las predicciones es ínfima.\n",
    "\n",
    "Mientras que el primer gráfico indica la forma en que se distribuyen los estados, el estado 0 y el estado 100 obtienen valores con casi una misma altura, y el estado 1 se distribuye con numeros mayores, concentrandose en los 300."
   ]
  },
  {
   "cell_type": "markdown",
   "metadata": {},
   "source": [
    "> d) Gracias a que el modelo no predice un valor único, sino que una distribucipon de probabilidad (incerteza en cada valor continuo), realice un gráfico de ésto, es decir, visualice el intervalo de confianza en que el modelo predice en cada instante de tiempo, dado el estado oculto, y contrarréstelo con la secuencia original. Hágalo para el conjunto de entrenamiento y de pruebas"
   ]
  },
  {
   "cell_type": "code",
   "execution_count": 55,
   "metadata": {},
   "outputs": [
    {
     "ename": "ValueError",
     "evalue": "Expected 2D array, got 1D array instead:\narray=[0 1].\nReshape your data either using array.reshape(-1, 1) if your data has a single feature or array.reshape(1, -1) if it contains a single sample.",
     "output_type": "error",
     "traceback": [
      "\u001b[1;31m---------------------------------------------------------------------------\u001b[0m",
      "\u001b[1;31mValueError\u001b[0m                                Traceback (most recent call last)",
      "\u001b[1;32m<ipython-input-55-b673cf5017f4>\u001b[0m in \u001b[0;36m<module>\u001b[1;34m()\u001b[0m\n\u001b[1;32m----> 1\u001b[1;33m \u001b[0mX_state\u001b[0m \u001b[1;33m=\u001b[0m \u001b[0mmarkov_model\u001b[0m\u001b[1;33m.\u001b[0m\u001b[0mpredict\u001b[0m\u001b[1;33m(\u001b[0m\u001b[0mX\u001b[0m\u001b[1;33m)\u001b[0m \u001b[1;31m#predice el estado, no el valor\u001b[0m\u001b[1;33m\u001b[0m\u001b[0m\n\u001b[0m\u001b[0;32m      2\u001b[0m \u001b[0mplt\u001b[0m\u001b[1;33m.\u001b[0m\u001b[0mfill_between\u001b[0m\u001b[1;33m(\u001b[0m\u001b[0mnp\u001b[0m\u001b[1;33m.\u001b[0m\u001b[0marange\u001b[0m\u001b[1;33m(\u001b[0m\u001b[0mX\u001b[0m\u001b[1;33m.\u001b[0m\u001b[0mshape\u001b[0m\u001b[1;33m[\u001b[0m\u001b[1;36m0\u001b[0m\u001b[1;33m]\u001b[0m\u001b[1;33m)\u001b[0m\u001b[1;33m,\u001b[0m\u001b[0mmarkov_model\u001b[0m\u001b[1;33m.\u001b[0m\u001b[0mmeans_\u001b[0m\u001b[1;33m[\u001b[0m\u001b[0mX_state\u001b[0m\u001b[1;33m]\u001b[0m\u001b[1;33m[\u001b[0m\u001b[1;33m:\u001b[0m\u001b[1;33m,\u001b[0m\u001b[1;36m0\u001b[0m\u001b[1;33m]\u001b[0m\u001b[1;33m-\u001b[0m\u001b[1;36m1.96\u001b[0m\u001b[1;33m*\u001b[0m\u001b[0mnp\u001b[0m\u001b[1;33m.\u001b[0m\u001b[0msqrt\u001b[0m\u001b[1;33m(\u001b[0m\u001b[0mmarkov_model\u001b[0m\u001b[1;33m.\u001b[0m\u001b[0mcovars_\u001b[0m\u001b[1;33m[\u001b[0m\u001b[0mX_state\u001b[0m\u001b[1;33m]\u001b[0m\u001b[1;33m)\u001b[0m\u001b[1;33m[\u001b[0m\u001b[1;33m:\u001b[0m\u001b[1;33m,\u001b[0m\u001b[1;36m0\u001b[0m\u001b[1;33m,\u001b[0m\u001b[1;36m0\u001b[0m\u001b[1;33m]\u001b[0m\u001b[1;33m,\u001b[0m \u001b[0mmarkov_model\u001b[0m\u001b[1;33m.\u001b[0m\u001b[0mmeans_\u001b[0m\u001b[1;33m[\u001b[0m\u001b[0mX_state\u001b[0m\u001b[1;33m]\u001b[0m\u001b[1;33m[\u001b[0m\u001b[1;33m:\u001b[0m\u001b[1;33m,\u001b[0m\u001b[1;36m0\u001b[0m\u001b[1;33m]\u001b[0m\u001b[1;33m+\u001b[0m\u001b[1;36m1.96\u001b[0m\u001b[1;33m*\u001b[0m\u001b[0mnp\u001b[0m\u001b[1;33m.\u001b[0m\u001b[0msqrt\u001b[0m\u001b[1;33m(\u001b[0m\u001b[0mmarkov_model\u001b[0m\u001b[1;33m.\u001b[0m\u001b[0mcovars_\u001b[0m\u001b[1;33m[\u001b[0m\u001b[0mX_state\u001b[0m\u001b[1;33m]\u001b[0m\u001b[1;33m)\u001b[0m\u001b[1;33m[\u001b[0m\u001b[1;33m:\u001b[0m\u001b[1;33m,\u001b[0m\u001b[1;36m0\u001b[0m\u001b[1;33m,\u001b[0m\u001b[1;36m0\u001b[0m\u001b[1;33m]\u001b[0m\u001b[1;33m)\u001b[0m\u001b[1;33m\u001b[0m\u001b[0m\n\u001b[0;32m      3\u001b[0m \u001b[0mplt\u001b[0m\u001b[1;33m.\u001b[0m\u001b[0mplot\u001b[0m\u001b[1;33m(\u001b[0m\u001b[0mmarkov_model\u001b[0m\u001b[1;33m.\u001b[0m\u001b[0mmeans_\u001b[0m\u001b[1;33m[\u001b[0m\u001b[0mX_state\u001b[0m\u001b[1;33m]\u001b[0m\u001b[1;33m[\u001b[0m\u001b[1;33m:\u001b[0m\u001b[1;33m,\u001b[0m\u001b[1;36m0\u001b[0m\u001b[1;33m]\u001b[0m\u001b[1;33m,\u001b[0m\u001b[1;34m'g*-'\u001b[0m\u001b[1;33m,\u001b[0m\u001b[0mlabel\u001b[0m\u001b[1;33m=\u001b[0m\u001b[1;34m\"Prediccion de la media\"\u001b[0m\u001b[1;33m)\u001b[0m\u001b[1;33m\u001b[0m\u001b[0m\n\u001b[0;32m      4\u001b[0m \u001b[0mplt\u001b[0m\u001b[1;33m.\u001b[0m\u001b[0mplot\u001b[0m\u001b[1;33m(\u001b[0m\u001b[0mX\u001b[0m\u001b[1;33m,\u001b[0m\u001b[1;34m'ro-'\u001b[0m\u001b[1;33m,\u001b[0m\u001b[0mlabel\u001b[0m\u001b[1;33m=\u001b[0m\u001b[1;34m\"Data\"\u001b[0m\u001b[1;33m)\u001b[0m \u001b[1;31m#-- here put train or val\u001b[0m\u001b[1;33m\u001b[0m\u001b[0m\n\u001b[0;32m      5\u001b[0m \u001b[0mplt\u001b[0m\u001b[1;33m.\u001b[0m\u001b[0mlegend\u001b[0m\u001b[1;33m(\u001b[0m\u001b[1;33m)\u001b[0m\u001b[1;33m\u001b[0m\u001b[0m\n",
      "\u001b[1;32m~\\Anaconda3\\lib\\site-packages\\hmmlearn\\base.py\u001b[0m in \u001b[0;36mpredict\u001b[1;34m(self, X, lengths)\u001b[0m\n\u001b[0;32m    334\u001b[0m             \u001b[0mLabels\u001b[0m \u001b[1;32mfor\u001b[0m \u001b[0meach\u001b[0m \u001b[0msample\u001b[0m \u001b[1;32mfrom\u001b[0m\u001b[0;31m \u001b[0m\u001b[0;31m`\u001b[0m\u001b[0;31m`\u001b[0m\u001b[0mX\u001b[0m\u001b[0;31m`\u001b[0m\u001b[0;31m`\u001b[0m\u001b[1;33m.\u001b[0m\u001b[1;33m\u001b[0m\u001b[0m\n\u001b[0;32m    335\u001b[0m         \"\"\"\n\u001b[1;32m--> 336\u001b[1;33m         \u001b[0m_\u001b[0m\u001b[1;33m,\u001b[0m \u001b[0mstate_sequence\u001b[0m \u001b[1;33m=\u001b[0m \u001b[0mself\u001b[0m\u001b[1;33m.\u001b[0m\u001b[0mdecode\u001b[0m\u001b[1;33m(\u001b[0m\u001b[0mX\u001b[0m\u001b[1;33m,\u001b[0m \u001b[0mlengths\u001b[0m\u001b[1;33m)\u001b[0m\u001b[1;33m\u001b[0m\u001b[0m\n\u001b[0m\u001b[0;32m    337\u001b[0m         \u001b[1;32mreturn\u001b[0m \u001b[0mstate_sequence\u001b[0m\u001b[1;33m\u001b[0m\u001b[0m\n\u001b[0;32m    338\u001b[0m \u001b[1;33m\u001b[0m\u001b[0m\n",
      "\u001b[1;32m~\\Anaconda3\\lib\\site-packages\\hmmlearn\\base.py\u001b[0m in \u001b[0;36mdecode\u001b[1;34m(self, X, lengths, algorithm)\u001b[0m\n\u001b[0;32m    305\u001b[0m         }[algorithm]\n\u001b[0;32m    306\u001b[0m \u001b[1;33m\u001b[0m\u001b[0m\n\u001b[1;32m--> 307\u001b[1;33m         \u001b[0mX\u001b[0m \u001b[1;33m=\u001b[0m \u001b[0mcheck_array\u001b[0m\u001b[1;33m(\u001b[0m\u001b[0mX\u001b[0m\u001b[1;33m)\u001b[0m\u001b[1;33m\u001b[0m\u001b[0m\n\u001b[0m\u001b[0;32m    308\u001b[0m         \u001b[0mn_samples\u001b[0m \u001b[1;33m=\u001b[0m \u001b[0mX\u001b[0m\u001b[1;33m.\u001b[0m\u001b[0mshape\u001b[0m\u001b[1;33m[\u001b[0m\u001b[1;36m0\u001b[0m\u001b[1;33m]\u001b[0m\u001b[1;33m\u001b[0m\u001b[0m\n\u001b[0;32m    309\u001b[0m         \u001b[0mlogprob\u001b[0m \u001b[1;33m=\u001b[0m \u001b[1;36m0\u001b[0m\u001b[1;33m\u001b[0m\u001b[0m\n",
      "\u001b[1;32m~\\Anaconda3\\lib\\site-packages\\sklearn\\utils\\validation.py\u001b[0m in \u001b[0;36mcheck_array\u001b[1;34m(array, accept_sparse, dtype, order, copy, force_all_finite, ensure_2d, allow_nd, ensure_min_samples, ensure_min_features, warn_on_dtype, estimator)\u001b[0m\n\u001b[0;32m    439\u001b[0m                     \u001b[1;34m\"Reshape your data either using array.reshape(-1, 1) if \"\u001b[0m\u001b[1;33m\u001b[0m\u001b[0m\n\u001b[0;32m    440\u001b[0m                     \u001b[1;34m\"your data has a single feature or array.reshape(1, -1) \"\u001b[0m\u001b[1;33m\u001b[0m\u001b[0m\n\u001b[1;32m--> 441\u001b[1;33m                     \"if it contains a single sample.\".format(array))\n\u001b[0m\u001b[0;32m    442\u001b[0m             \u001b[0marray\u001b[0m \u001b[1;33m=\u001b[0m \u001b[0mnp\u001b[0m\u001b[1;33m.\u001b[0m\u001b[0matleast_2d\u001b[0m\u001b[1;33m(\u001b[0m\u001b[0marray\u001b[0m\u001b[1;33m)\u001b[0m\u001b[1;33m\u001b[0m\u001b[0m\n\u001b[0;32m    443\u001b[0m             \u001b[1;31m# To ensure that array flags are maintained\u001b[0m\u001b[1;33m\u001b[0m\u001b[1;33m\u001b[0m\u001b[0m\n",
      "\u001b[1;31mValueError\u001b[0m: Expected 2D array, got 1D array instead:\narray=[0 1].\nReshape your data either using array.reshape(-1, 1) if your data has a single feature or array.reshape(1, -1) if it contains a single sample."
     ]
    }
   ],
   "source": [
    "X_state = markov_model.predict(X) #predice el estado, no el valor\n",
    "plt.fill_between(np.arange(X.shape[0]),markov_model.means_[X_state][:,0]-1.96*np.sqrt(markov_model.covars_[X_state])[:,0,0], markov_model.means_[X_state][:,0]+1.96*np.sqrt(markov_model.covars_[X_state])[:,0,0])\n",
    "plt.plot(markov_model.means_[X_state][:,0],'g*-',label=\"Prediccion de la media\")\n",
    "plt.plot(X,'ro-',label=\"Data\") #-- here put train or val\n",
    "plt.legend()\n",
    "plt.show()"
   ]
  },
  {
   "cell_type": "markdown",
   "metadata": {},
   "source": [
    "> e) Dado que se ve que el problema no puede ser modelado de manera adecuada con 3 estados distintos (valores que puede tomar el estado oculto en cada instante de tiempo, $s_t$). Experimente con variar la cantidad de éstos  ¿Qué sucede si aumenta hasta tener la misma cantidad de estados que la cantidad de datos? Visualice lo que estime conveniente, además de medir el *log-likelihood* en cada conjunto."
   ]
  },
  {
   "cell_type": "code",
   "execution_count": 74,
   "metadata": {},
   "outputs": [
    {
     "name": "stdout",
     "output_type": "stream",
     "text": [
      "score conjunto entrenamiento para n_state 10:  -473.08541709711426\n",
      "score conjunto testing para n_state 10:  -462.6159453588066\n",
      "score conjunto entrenamiento para n_state 20:  -473.0856244427899\n",
      "score conjunto testing para n_state 20:  -462.7315424655113\n",
      "score conjunto entrenamiento para n_state 30:  -473.0858514991621\n",
      "score conjunto testing para n_state 30:  -462.8038233923229\n",
      "score conjunto entrenamiento para n_state 40:  -473.08546503701797\n",
      "score conjunto testing para n_state 40:  -462.6543354852481\n",
      "score conjunto entrenamiento para n_state 50:  -473.08553322588494\n",
      "score conjunto testing para n_state 50:  -462.69285279796304\n"
     ]
    },
    {
     "name": "stderr",
     "output_type": "stream",
     "text": [
      "C:\\Users\\Jorge\\Anaconda3\\lib\\site-packages\\sklearn\\utils\\deprecation.py:77: DeprecationWarning: Function distribute_covar_matrix_to_match_covariance_type is deprecated; The function distribute_covar_matrix_to_match_covariance_typeis deprecated in 0.18 and will be removed in 0.20.\n",
      "  warnings.warn(msg, category=DeprecationWarning)\n",
      "C:\\Users\\Jorge\\Anaconda3\\lib\\site-packages\\sklearn\\utils\\deprecation.py:77: DeprecationWarning: Function distribute_covar_matrix_to_match_covariance_type is deprecated; The function distribute_covar_matrix_to_match_covariance_typeis deprecated in 0.18 and will be removed in 0.20.\n",
      "  warnings.warn(msg, category=DeprecationWarning)\n",
      "C:\\Users\\Jorge\\Anaconda3\\lib\\site-packages\\sklearn\\utils\\deprecation.py:77: DeprecationWarning: Function distribute_covar_matrix_to_match_covariance_type is deprecated; The function distribute_covar_matrix_to_match_covariance_typeis deprecated in 0.18 and will be removed in 0.20.\n",
      "  warnings.warn(msg, category=DeprecationWarning)\n",
      "C:\\Users\\Jorge\\Anaconda3\\lib\\site-packages\\sklearn\\utils\\deprecation.py:77: DeprecationWarning: Function distribute_covar_matrix_to_match_covariance_type is deprecated; The function distribute_covar_matrix_to_match_covariance_typeis deprecated in 0.18 and will be removed in 0.20.\n",
      "  warnings.warn(msg, category=DeprecationWarning)\n",
      "C:\\Users\\Jorge\\Anaconda3\\lib\\site-packages\\sklearn\\utils\\deprecation.py:77: DeprecationWarning: Function distribute_covar_matrix_to_match_covariance_type is deprecated; The function distribute_covar_matrix_to_match_covariance_typeis deprecated in 0.18 and will be removed in 0.20.\n",
      "  warnings.warn(msg, category=DeprecationWarning)\n"
     ]
    }
   ],
   "source": [
    "n_states = 10\n",
    "markov_model = hmm.GaussianHMM(n_components=n_state, n_iter=100)\n",
    "markov_model.fit(X_train)\n",
    "print(\"score conjunto entrenamiento para n_state 10: \",markov_model.score(X_train))\n",
    "print(\"score conjunto testing para n_state 10: \",markov_model.score(X_test))\n",
    "\n",
    "n_states = 20\n",
    "markov_model = hmm.GaussianHMM(n_components=n_state, n_iter=100)\n",
    "markov_model.fit(X_train)\n",
    "print(\"score conjunto entrenamiento para n_state 20: \",markov_model.score(X_train))\n",
    "print(\"score conjunto testing para n_state 20: \",markov_model.score(X_test))\n",
    "\n",
    "n_states = 30\n",
    "markov_model = hmm.GaussianHMM(n_components=n_state, n_iter=100)\n",
    "markov_model.fit(X_train)\n",
    "print(\"score conjunto entrenamiento para n_state 30: \",markov_model.score(X_train))\n",
    "print(\"score conjunto testing para n_state 30: \",markov_model.score(X_test))\n",
    "\n",
    "n_states = 40\n",
    "markov_model = hmm.GaussianHMM(n_components=n_state, n_iter=100)\n",
    "markov_model.fit(X_train)\n",
    "print(\"score conjunto entrenamiento para n_state 40: \",markov_model.score(X_train))\n",
    "print(\"score conjunto testing para n_state 40: \",markov_model.score(X_test))\n",
    "\n",
    "n_states = 50\n",
    "markov_model = hmm.GaussianHMM(n_components=n_state, n_iter=100)\n",
    "markov_model.fit(X_train)\n",
    "print(\"score conjunto entrenamiento para n_state 50: \",markov_model.score(X_train))\n",
    "print(\"score conjunto testing para n_state 50: \",markov_model.score(X_test))"
   ]
  },
  {
   "cell_type": "markdown",
   "metadata": {},
   "source": [
    "Los valores que entrega la medición del log-likelihood varían muy poco para el conjunto de testing, y aún menos, casi nulo, para el conjunto de entrenamiento, indicando que los valores que puede tomar el estado oculto en cada instante de tiempo no son tan relevantes en este modelo en particular."
   ]
  },
  {
   "cell_type": "markdown",
   "metadata": {},
   "source": [
    "> f) Debido a que el modelo no predice el valor continuo directamente, sino que predice el estado oculto de cada instante de tiempo, es necesario hacer un muestreo para obtener el valor continuo (o si desea, quedarse con la media). Realice este muestreo y evalúe la métrica de MSE (*Mean Square Error*) sobre el conjunto de pruebas."
   ]
  },
  {
   "cell_type": "code",
   "execution_count": 75,
   "metadata": {},
   "outputs": [
    {
     "data": {
      "text/plain": [
       "19298.813249582632"
      ]
     },
     "execution_count": 75,
     "metadata": {},
     "output_type": "execute_result"
    }
   ],
   "source": [
    "X_state = markov_model.predict(X_test) #predice el estado, no el valor\n",
    "X_output = norm( markov_model.means_[X_state], np.sqrt(markov_model.covars_[X_state][:,0]) ).rvs() #rvs is sample\n",
    "from  sklearn.metrics import mean_squared_error as mse\n",
    "mse(X_test, X_output)"
   ]
  },
  {
   "cell_type": "markdown",
   "metadata": {},
   "source": [
    "El valor entregado al medir el mean squeared error es de casi 20000, un valor numérico algo alto considerando los datos trabajados, entonces la diferencia entre el estimador y lo que se estima es alta."
   ]
  },
  {
   "cell_type": "markdown",
   "metadata": {},
   "source": [
    "> ¿Cambian mucho los resultados si se emplea una mezcla de gausianas como modelo para $p(x_t|s_t)$ en ves de que cada estado pertenezca a un único modelo Gausiano (distribución normal)?"
   ]
  },
  {
   "cell_type": "code",
   "execution_count": 76,
   "metadata": {},
   "outputs": [],
   "source": [
    "from hmmlearn.hmm import GMMHMM\n",
    "markov_model2 = GMMHMM(n_components=n_state, n_mix=3, n_iter=100)"
   ]
  },
  {
   "cell_type": "code",
   "execution_count": 77,
   "metadata": {},
   "outputs": [
    {
     "data": {
      "text/plain": [
       "GMMHMM(algorithm='viterbi', covariance_type='diag',\n",
       "    covars_prior=array([[[-1.5],\n",
       "        [-1.5],\n",
       "        [-1.5]],\n",
       "\n",
       "       [[-1.5],\n",
       "        [-1.5],\n",
       "        [-1.5]],\n",
       "\n",
       "       [[-1.5],\n",
       "        [-1.5],\n",
       "        [-1.5]]]),\n",
       "    covars_weight=array([[[0.],\n",
       "        [0.],\n",
       "        [0.]],\n",
       "\n",
       "       [[0.],\n",
       "        [0.],\n",
       "        [0.]],\n",
       "\n",
       "       [[0.],\n",
       "        [0.],\n",
       "        [0.]]]),\n",
       "    init_params='stmcw',\n",
       "    means_prior=array([[[0.],\n",
       "        [0.],\n",
       "        [0.]],\n",
       "\n",
       "       [[0.],\n",
       "        [0.],\n",
       "        [0.]],\n",
       "\n",
       "       [[0.],\n",
       "        [0.],\n",
       "        [0.]]]),\n",
       "    means_weight=array([[0., 0., 0.],\n",
       "       [0., 0., 0.],\n",
       "       [0., 0., 0.]]),\n",
       "    min_covar=0.001, n_components=3, n_iter=100, n_mix=3, params='stmcw',\n",
       "    random_state=None, startprob_prior=1.0, tol=0.01, transmat_prior=1.0,\n",
       "    verbose=False,\n",
       "    weights_prior=array([[1., 1., 1.],\n",
       "       [1., 1., 1.],\n",
       "       [1., 1., 1.]]))"
      ]
     },
     "execution_count": 77,
     "metadata": {},
     "output_type": "execute_result"
    }
   ],
   "source": [
    "markov_model2.fit(X_train)"
   ]
  },
  {
   "cell_type": "code",
   "execution_count": 78,
   "metadata": {},
   "outputs": [
    {
     "name": "stdout",
     "output_type": "stream",
     "text": [
      "score conjunto entrenamiento:  -468.01441559978184\n",
      "score conjunto testing:  -457.3267611631883\n"
     ]
    }
   ],
   "source": [
    "print(\"score conjunto entrenamiento: \",markov_model2.score(X_train))\n",
    "print(\"score conjunto testing: \",markov_model2.score(X_test))"
   ]
  },
  {
   "cell_type": "markdown",
   "metadata": {},
   "source": [
    "De acuerdo a la medición para el log-likelihood, los resultados entregados por la gausiana no cambia mucho las predicciones del modelo, ya que son valores muy similares a las de los modelos anteriores."
   ]
  },
  {
   "cell_type": "code",
   "execution_count": null,
   "metadata": {},
   "outputs": [],
   "source": []
  }
 ],
 "metadata": {
  "kernelspec": {
   "display_name": "Python 3",
   "language": "python",
   "name": "python3"
  },
  "language_info": {
   "codemirror_mode": {
    "name": "ipython",
    "version": 3
   },
   "file_extension": ".py",
   "mimetype": "text/x-python",
   "name": "python",
   "nbconvert_exporter": "python",
   "pygments_lexer": "ipython3",
   "version": "3.6.5"
  }
 },
 "nbformat": 4,
 "nbformat_minor": 2
}
